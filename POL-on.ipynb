{
 "cells": [
  {
   "cell_type": "markdown",
   "metadata": {},
   "source": [
    "# POLON -  Polish Scholarly Bibliography analysis, 2017\n",
    "\n",
    "Full results of this analysis with conclusions and thorough comments have been published in a scientific paper: \n",
    "\n",
    "* **Kulczycki, E., Engels, T., Nowotniak., R. (2017). Publication patterns in the social sciences and humanities in Flanders and Poland. In: Proceedings of ISSI 2017 Wuhan: 16th International Society of Scientometrics and Informetrics Conference, Wuhan, China, 16–20 October 2017, pp. 95–104.** -- [[full text PDF]](Publication patterns in the social sciences and humanities in Flanders and Poland.pdf)\n",
    "\n",
    "<a href=\"Publication patterns in the social sciences and humanities in Flanders and Poland.pdf\"><img src=\"Kulczycki-Engels-Nowotniak-paper.jpg\" style=\"border: 1px solid black\"/></a>"
   ]
  },
  {
   "cell_type": "markdown",
   "metadata": {},
   "source": [
    "## Initial analysis steps implementation in Python / pandas"
   ]
  },
  {
   "cell_type": "markdown",
   "metadata": {},
   "source": [
    "Robert Nowotniak  <rnowotniak@gmail.com>\n",
    "\n",
    "Feb 2nd, 2017"
   ]
  },
  {
   "cell_type": "code",
   "execution_count": 1,
   "metadata": {},
   "outputs": [],
   "source": [
    "import glob, re\n",
    "from collections import Counter\n",
    "import string\n",
    "import numpy as np\n",
    "import os, os.path\n",
    "import pandas as pd\n",
    "import xml.etree.ElementTree\n",
    "import matplotlib.pyplot as plt"
   ]
  },
  {
   "cell_type": "markdown",
   "metadata": {},
   "source": [
    "Fix incorrectly coded Polish characters in the input files names (rename the files accordingly):"
   ]
  },
  {
   "cell_type": "code",
   "execution_count": 2,
   "metadata": {
    "collapsed": true
   },
   "outputs": [],
   "source": [
    "trans = str.maketrans('\\udcea\\udcd1\\udcd8\\udcf3\\udcf5\\udca5\\udcf9\\udcae\\udca2\\udcbd\\udce5\\udca0',\n",
    "                      'łąŁóńżŚęŻźć ')\n",
    "output = open('renamed.txt', 'w')\n",
    "\n",
    "for f in glob.glob('ExportData/*.xml'):\n",
    "    fixed = f.translate(trans)\n",
    "    try:\n",
    "        fixed.encode('utf8')\n",
    "    except UnicodeEncodeError:\n",
    "        print(repr(fixed))\n",
    "        break\n",
    "    if f != fixed:\n",
    "        print(\"Renaming \" + fixed)\n",
    "        os.rename(f, fixed)\n",
    "    output.write(\"%s\\n\" % fixed)\n",
    "    \n",
    "output.close()"
   ]
  },
  {
   "cell_type": "markdown",
   "metadata": {},
   "source": [
    "## Rougth initial analysis"
   ]
  },
  {
   "cell_type": "code",
   "execution_count": 2,
   "metadata": {},
   "outputs": [
    {
     "name": "stdout",
     "output_type": "stream",
     "text": [
      "CPU times: user 944 ms, sys: 38.1 ms, total: 982 ms\n",
      "Wall time: 1.48 s\n"
     ]
    }
   ],
   "source": [
    "%%time\n",
    "\n",
    "result = []\n",
    "for f in glob.glob('ExportData/*.xml')[:50]:\n",
    "    e = xml.etree.ElementTree.parse(f).getroot()\n",
    "    d = dict(Counter([re.sub(r'{.*}', '', c.tag) for c in e]))\n",
    "    d['Institute name'] = re.sub(r'.*/', '', f)\n",
    "    result.append(d)"
   ]
  },
  {
   "cell_type": "code",
   "execution_count": 3,
   "metadata": {},
   "outputs": [],
   "source": [
    "df = pd.DataFrame(result)\n",
    "df = df.fillna(0)\n",
    "\n",
    "# df = df[['Institute name', 'book', 'chapter', 'article']]"
   ]
  },
  {
   "cell_type": "code",
   "execution_count": 4,
   "metadata": {},
   "outputs": [
    {
     "data": {
      "text/html": [
       "<div>\n",
       "<table border=\"1\" class=\"dataframe\">\n",
       "  <thead>\n",
       "    <tr style=\"text-align: right;\">\n",
       "      <th></th>\n",
       "      <th>Institute name</th>\n",
       "      <th>article</th>\n",
       "      <th>book</th>\n",
       "      <th>chapter</th>\n",
       "    </tr>\n",
       "  </thead>\n",
       "  <tbody>\n",
       "    <tr>\n",
       "      <th>0</th>\n",
       "      <td>AR_Pracownia Ratownictwa Medycznego_Szkoła Głó...</td>\n",
       "      <td>0.0</td>\n",
       "      <td>0.0</td>\n",
       "      <td>0.0</td>\n",
       "    </tr>\n",
       "    <tr>\n",
       "      <th>1</th>\n",
       "      <td>RS_Państwowa Wyższa Szkoła Zawodowa w Nysie_RO...</td>\n",
       "      <td>0.0</td>\n",
       "      <td>0.0</td>\n",
       "      <td>0.0</td>\n",
       "    </tr>\n",
       "    <tr>\n",
       "      <th>2</th>\n",
       "      <td>S_Wydział Nauk Społecznych_Wyższa Szkoła Gospo...</td>\n",
       "      <td>0.0</td>\n",
       "      <td>0.0</td>\n",
       "      <td>0.0</td>\n",
       "    </tr>\n",
       "    <tr>\n",
       "      <th>3</th>\n",
       "      <td>R_Wydział Zarządzania_Wyższa Szkoła Promocji M...</td>\n",
       "      <td>39.0</td>\n",
       "      <td>0.0</td>\n",
       "      <td>0.0</td>\n",
       "    </tr>\n",
       "    <tr>\n",
       "      <th>4</th>\n",
       "      <td>R_Wydział Nauk Społecznych_Małopolska Wyższa S...</td>\n",
       "      <td>5.0</td>\n",
       "      <td>4.0</td>\n",
       "      <td>23.0</td>\n",
       "    </tr>\n",
       "    <tr>\n",
       "      <th>5</th>\n",
       "      <td>R_Uczelnia Jana Wyżykowskiego_ROOT_2742.xml</td>\n",
       "      <td>158.0</td>\n",
       "      <td>11.0</td>\n",
       "      <td>124.0</td>\n",
       "    </tr>\n",
       "    <tr>\n",
       "      <th>6</th>\n",
       "      <td>RS_Wydział Kompozycji Dyrygentury i Teorii Muz...</td>\n",
       "      <td>0.0</td>\n",
       "      <td>0.0</td>\n",
       "      <td>0.0</td>\n",
       "    </tr>\n",
       "    <tr>\n",
       "      <th>7</th>\n",
       "      <td>RS_Wydział Mechaniczny_Politechnika Koszalińsk...</td>\n",
       "      <td>0.0</td>\n",
       "      <td>0.0</td>\n",
       "      <td>0.0</td>\n",
       "    </tr>\n",
       "    <tr>\n",
       "      <th>8</th>\n",
       "      <td>AR_Kolegium Pedagogiczne_Politechnika Śląska_4...</td>\n",
       "      <td>0.0</td>\n",
       "      <td>1.0</td>\n",
       "      <td>0.0</td>\n",
       "    </tr>\n",
       "    <tr>\n",
       "      <th>9</th>\n",
       "      <td>RS_Wydział Twórczoci Interpretacji i Edukacji ...</td>\n",
       "      <td>0.0</td>\n",
       "      <td>0.0</td>\n",
       "      <td>0.0</td>\n",
       "    </tr>\n",
       "    <tr>\n",
       "      <th>10</th>\n",
       "      <td>S_Instytut Transportu Samochodowego_ROOT_4151.xml</td>\n",
       "      <td>1.0</td>\n",
       "      <td>0.0</td>\n",
       "      <td>0.0</td>\n",
       "    </tr>\n",
       "    <tr>\n",
       "      <th>11</th>\n",
       "      <td>RS_Wydział Inżynierii Środowiska_Politechnika ...</td>\n",
       "      <td>0.0</td>\n",
       "      <td>0.0</td>\n",
       "      <td>0.0</td>\n",
       "    </tr>\n",
       "    <tr>\n",
       "      <th>12</th>\n",
       "      <td>RS_Wydział Metali Nieżelaznych_Akademia Górnic...</td>\n",
       "      <td>0.0</td>\n",
       "      <td>0.0</td>\n",
       "      <td>0.0</td>\n",
       "    </tr>\n",
       "    <tr>\n",
       "      <th>13</th>\n",
       "      <td>RS_Fundacja Rozwoju Kardiochirurgii im prof Zb...</td>\n",
       "      <td>0.0</td>\n",
       "      <td>0.0</td>\n",
       "      <td>0.0</td>\n",
       "    </tr>\n",
       "    <tr>\n",
       "      <th>14</th>\n",
       "      <td>S_Wydział Zarządzania_Górnoląska Wyższa Szkoła...</td>\n",
       "      <td>0.0</td>\n",
       "      <td>0.0</td>\n",
       "      <td>0.0</td>\n",
       "    </tr>\n",
       "    <tr>\n",
       "      <th>15</th>\n",
       "      <td>RS_Wydział Pedagogiki i Psychologii_Uniwersyte...</td>\n",
       "      <td>0.0</td>\n",
       "      <td>0.0</td>\n",
       "      <td>0.0</td>\n",
       "    </tr>\n",
       "    <tr>\n",
       "      <th>16</th>\n",
       "      <td>RS_Wydział Matematyki i Informatyki_Uniwersyte...</td>\n",
       "      <td>0.0</td>\n",
       "      <td>0.0</td>\n",
       "      <td>0.0</td>\n",
       "    </tr>\n",
       "    <tr>\n",
       "      <th>17</th>\n",
       "      <td>AR_Wydział Transportu_Politechnika Śląska_1293...</td>\n",
       "      <td>134.0</td>\n",
       "      <td>19.0</td>\n",
       "      <td>27.0</td>\n",
       "    </tr>\n",
       "    <tr>\n",
       "      <th>18</th>\n",
       "      <td>R_Wydział Nauk Społecznych_Katolicki Uniwersyt...</td>\n",
       "      <td>699.0</td>\n",
       "      <td>207.0</td>\n",
       "      <td>857.0</td>\n",
       "    </tr>\n",
       "    <tr>\n",
       "      <th>19</th>\n",
       "      <td>AR_Wydział Chemii_Uniwersytet Gdański_1658.xml</td>\n",
       "      <td>12.0</td>\n",
       "      <td>4.0</td>\n",
       "      <td>11.0</td>\n",
       "    </tr>\n",
       "  </tbody>\n",
       "</table>\n",
       "</div>"
      ],
      "text/plain": [
       "                                       Institute name  article   book  chapter\n",
       "0   AR_Pracownia Ratownictwa Medycznego_Szkoła Głó...      0.0    0.0      0.0\n",
       "1   RS_Państwowa Wyższa Szkoła Zawodowa w Nysie_RO...      0.0    0.0      0.0\n",
       "2   S_Wydział Nauk Społecznych_Wyższa Szkoła Gospo...      0.0    0.0      0.0\n",
       "3   R_Wydział Zarządzania_Wyższa Szkoła Promocji M...     39.0    0.0      0.0\n",
       "4   R_Wydział Nauk Społecznych_Małopolska Wyższa S...      5.0    4.0     23.0\n",
       "5         R_Uczelnia Jana Wyżykowskiego_ROOT_2742.xml    158.0   11.0    124.0\n",
       "6   RS_Wydział Kompozycji Dyrygentury i Teorii Muz...      0.0    0.0      0.0\n",
       "7   RS_Wydział Mechaniczny_Politechnika Koszalińsk...      0.0    0.0      0.0\n",
       "8   AR_Kolegium Pedagogiczne_Politechnika Śląska_4...      0.0    1.0      0.0\n",
       "9   RS_Wydział Twórczoci Interpretacji i Edukacji ...      0.0    0.0      0.0\n",
       "10  S_Instytut Transportu Samochodowego_ROOT_4151.xml      1.0    0.0      0.0\n",
       "11  RS_Wydział Inżynierii Środowiska_Politechnika ...      0.0    0.0      0.0\n",
       "12  RS_Wydział Metali Nieżelaznych_Akademia Górnic...      0.0    0.0      0.0\n",
       "13  RS_Fundacja Rozwoju Kardiochirurgii im prof Zb...      0.0    0.0      0.0\n",
       "14  S_Wydział Zarządzania_Górnoląska Wyższa Szkoła...      0.0    0.0      0.0\n",
       "15  RS_Wydział Pedagogiki i Psychologii_Uniwersyte...      0.0    0.0      0.0\n",
       "16  RS_Wydział Matematyki i Informatyki_Uniwersyte...      0.0    0.0      0.0\n",
       "17  AR_Wydział Transportu_Politechnika Śląska_1293...    134.0   19.0     27.0\n",
       "18  R_Wydział Nauk Społecznych_Katolicki Uniwersyt...    699.0  207.0    857.0\n",
       "19     AR_Wydział Chemii_Uniwersytet Gdański_1658.xml     12.0    4.0     11.0"
      ]
     },
     "execution_count": 4,
     "metadata": {},
     "output_type": "execute_result"
    }
   ],
   "source": [
    "df.head(20)"
   ]
  },
  {
   "cell_type": "code",
   "execution_count": 5,
   "metadata": {},
   "outputs": [
    {
     "data": {
      "text/plain": [
       "book        846.0\n",
       "chapter    2511.0\n",
       "article    4634.0\n",
       "dtype: float64"
      ]
     },
     "execution_count": 5,
     "metadata": {},
     "output_type": "execute_result"
    }
   ],
   "source": [
    "df[['book','chapter','article']].sum()"
   ]
  },
  {
   "cell_type": "code",
   "execution_count": 6,
   "metadata": {},
   "outputs": [],
   "source": [
    "df.to_csv('works-stats.csv')"
   ]
  },
  {
   "cell_type": "markdown",
   "metadata": {},
   "source": [
    "## Works IDs analysis (if there are same works with different IDs or vice versa)"
   ]
  },
  {
   "cell_type": "code",
   "execution_count": 7,
   "metadata": {},
   "outputs": [],
   "source": [
    "e=xml.etree.ElementTree.parse('ExportData/R_Akademia Sztuk Pięknych im Jana Matejki w Krakowie_ROOT_557.xml').getroot()"
   ]
  },
  {
   "cell_type": "code",
   "execution_count": 8,
   "metadata": {},
   "outputs": [],
   "source": [
    "def ids_and_titles(e):\n",
    "    result =[]\n",
    "    #print(e)\n",
    "    for c in e:\n",
    "        # if not c.tag.endswith('}chapter'):\n",
    "        #    continue\n",
    "        #print(e)\n",
    "        i = None\n",
    "        title = None\n",
    "        for d in c:\n",
    "            if d.tag.endswith('}system-identifier'):\n",
    "                i = d.text.lower().strip()\n",
    "            if d.tag.endswith('}title'):\n",
    "                title = d.text.lower().strip()\n",
    "        if not i or not title:\n",
    "            print(\"ERROR\")\n",
    "            return\n",
    "        else:\n",
    "            result.append({'title':title, 'id':i})\n",
    "            #print(\"%s;%s\" % (i,title))\n",
    "    print(len(result))\n",
    "    return result\n",
    "    "
   ]
  },
  {
   "cell_type": "code",
   "execution_count": null,
   "metadata": {},
   "outputs": [],
   "source": [
    "df = pd.DataFrame()\n",
    "for f in glob.glob('ExportData/*.xml'):\n",
    "    print(f)\n",
    "    try:\n",
    "        e = xml.etree.ElementTree.parse(f).getroot()\n",
    "        df = df.append(pd.DataFrame(ids_and_titles(e)))\n",
    "    except Exception:\n",
    "        continue\n"
   ]
  },
  {
   "cell_type": "code",
   "execution_count": 10,
   "metadata": {},
   "outputs": [],
   "source": [
    "pd.DataFrame(df.groupby('title').id.nunique()).sort_values('id',ascending=False).to_csv('artsids.txt')"
   ]
  },
  {
   "cell_type": "code",
   "execution_count": 11,
   "metadata": {},
   "outputs": [],
   "source": [
    "pd.DataFrame(df.groupby('id').title.nunique()).to_csv('artsids.txt')"
   ]
  },
  {
   "cell_type": "markdown",
   "metadata": {},
   "source": [
    "## Data conversion from input XML files to a single DataFrame"
   ]
  },
  {
   "cell_type": "code",
   "execution_count": 12,
   "metadata": {},
   "outputs": [
    {
     "data": {
      "text/plain": [
       "[{'author': 'Marek Konecki',\n",
       "  'institute': 'Wydział Inżynierii Bezpieczeństwa Pożarowego_Szkoła Główna Służby Pożarniczej',\n",
       "  'lang': 'pl',\n",
       "  'module': 'AR',\n",
       "  'nauthors': 1,\n",
       "  'title': '\"wpływ szybkości wydzielania ciepła i emisji dymu na rozwój pożaru w układzie pomieszczeń\"',\n",
       "  'type': 'book',\n",
       "  'year': '2009'},\n",
       " {'author': 'Marzena Półka',\n",
       "  'institute': 'Wydział Inżynierii Bezpieczeństwa Pożarowego_Szkoła Główna Służby Pożarniczej',\n",
       "  'lang': 'en',\n",
       "  'module': 'AR',\n",
       "  'nauthors': 1,\n",
       "  'title': '\"influence of the selected flame retardants on the specific fire properties of the epoxy materials made of epidian 561 and epidian 5\". rozprawa haibilitacyjna',\n",
       "  'type': 'book',\n",
       "  'year': '2011'},\n",
       " {'author': 'Zdzisław Salamonowicz',\n",
       "  'institute': 'Wydział Inżynierii Bezpieczeństwa Pożarowego_Szkoła Główna Służby Pożarniczej',\n",
       "  'lang': 'pl',\n",
       "  'module': 'AR',\n",
       "  'nauthors': 1,\n",
       "  'title': '\"badanie równowag fazowych mieszaniny propan-butan w symulowanych warunkach pożarowych\" rozprawa doktorska',\n",
       "  'type': 'book',\n",
       "  'year': '2011'},\n",
       " {'author': 'Ryszard Chybowski',\n",
       "  'institute': 'Wydział Inżynierii Bezpieczeństwa Pożarowego_Szkoła Główna Służby Pożarniczej',\n",
       "  'lang': 'pl',\n",
       "  'module': 'AR',\n",
       "  'nauthors': 1,\n",
       "  'title': '„bezpieczeństwo pożarowe i porażeniowe eksploatacji urządzeń elektrycznych”',\n",
       "  'type': 'book',\n",
       "  'year': '2012'},\n",
       " {'author': 'Andrzej Mizerski',\n",
       "  'institute': 'Wydział Inżynierii Bezpieczeństwa Pożarowego_Szkoła Główna Służby Pożarniczej',\n",
       "  'lang': 'en',\n",
       "  'module': 'AR',\n",
       "  'nauthors': 1,\n",
       "  'title': '„examination of properties of foams intended for liquidation of chemical and biological contamination”. rozprawa habilitacyjna',\n",
       "  'type': 'book',\n",
       "  'year': '2009'},\n",
       " {'author': 'Marcin Szczuka',\n",
       "  'institute': 'Wydział Inżynierii Bezpieczeństwa Pożarowego_Szkoła Główna Służby Pożarniczej',\n",
       "  'lang': 'en',\n",
       "  'module': 'AR',\n",
       "  'nauthors': 4,\n",
       "  'title': 'using domain knowledge in initial stages of kdd: optimization of compound object processing',\n",
       "  'type': 'article',\n",
       "  'year': '2014'},\n",
       " {'author': 'Adam Krasuski',\n",
       "  'institute': 'Wydział Inżynierii Bezpieczeństwa Pożarowego_Szkoła Główna Służby Pożarniczej',\n",
       "  'lang': 'en',\n",
       "  'module': 'AR',\n",
       "  'nauthors': 4,\n",
       "  'title': 'using domain knowledge in initial stages of kdd: optimization of compound object processing',\n",
       "  'type': 'article',\n",
       "  'year': '2014'},\n",
       " {'author': 'Karol Kreński',\n",
       "  'institute': 'Wydział Inżynierii Bezpieczeństwa Pożarowego_Szkoła Główna Służby Pożarniczej',\n",
       "  'lang': 'en',\n",
       "  'module': 'AR',\n",
       "  'nauthors': 4,\n",
       "  'title': 'using domain knowledge in initial stages of kdd: optimization of compound object processing',\n",
       "  'type': 'article',\n",
       "  'year': '2014'},\n",
       " {'author': 'Łukasz Sosnowski',\n",
       "  'institute': 'Wydział Inżynierii Bezpieczeństwa Pożarowego_Szkoła Główna Służby Pożarniczej',\n",
       "  'lang': 'en',\n",
       "  'module': 'AR',\n",
       "  'nauthors': 4,\n",
       "  'title': 'using domain knowledge in initial stages of kdd: optimization of compound object processing',\n",
       "  'type': 'article',\n",
       "  'year': '2014'},\n",
       " {'author': 'Andrzej piotr Janusz',\n",
       "  'institute': 'Wydział Inżynierii Bezpieczeństwa Pożarowego_Szkoła Główna Służby Pożarniczej',\n",
       "  'lang': 'en',\n",
       "  'module': 'AR',\n",
       "  'nauthors': 3,\n",
       "  'title': 'improving semantic clustering of ewid reports by using heterogeneous data types',\n",
       "  'type': 'chapter',\n",
       "  'year': '2013'},\n",
       " {'author': 'Marcin Szczuka',\n",
       "  'institute': 'Wydział Inżynierii Bezpieczeństwa Pożarowego_Szkoła Główna Służby Pożarniczej',\n",
       "  'lang': 'en',\n",
       "  'module': 'AR',\n",
       "  'nauthors': 3,\n",
       "  'title': 'improving semantic clustering of ewid reports by using heterogeneous data types',\n",
       "  'type': 'chapter',\n",
       "  'year': '2013'},\n",
       " {'author': 'Adam Krasuski',\n",
       "  'institute': 'Wydział Inżynierii Bezpieczeństwa Pożarowego_Szkoła Główna Służby Pożarniczej',\n",
       "  'lang': 'en',\n",
       "  'module': 'AR',\n",
       "  'nauthors': 3,\n",
       "  'title': 'improving semantic clustering of ewid reports by using heterogeneous data types',\n",
       "  'type': 'chapter',\n",
       "  'year': '2013'},\n",
       " {'author': 'Hung son Nguyen',\n",
       "  'institute': 'Wydział Inżynierii Bezpieczeństwa Pożarowego_Szkoła Główna Służby Pożarniczej',\n",
       "  'lang': 'en',\n",
       "  'module': 'AR',\n",
       "  'nauthors': 3,\n",
       "  'title': 'a granular evacuation modeling framework',\n",
       "  'type': 'chapter',\n",
       "  'year': '2014'},\n",
       " {'author': 'Andrzej Krauze',\n",
       "  'institute': 'Wydział Inżynierii Bezpieczeństwa Pożarowego_Szkoła Główna Służby Pożarniczej',\n",
       "  'lang': 'en',\n",
       "  'module': 'AR',\n",
       "  'nauthors': 3,\n",
       "  'title': 'a granular evacuation modeling framework',\n",
       "  'type': 'chapter',\n",
       "  'year': '2014'},\n",
       " {'author': 'Wojciech michał Świeboda',\n",
       "  'institute': 'Wydział Inżynierii Bezpieczeństwa Pożarowego_Szkoła Główna Służby Pożarniczej',\n",
       "  'lang': 'en',\n",
       "  'module': 'AR',\n",
       "  'nauthors': 3,\n",
       "  'title': 'a granular evacuation modeling framework',\n",
       "  'type': 'chapter',\n",
       "  'year': '2014'},\n",
       " {'author': 'A. Maranda',\n",
       "  'institute': 'Wydział Inżynierii Bezpieczeństwa Pożarowego_Szkoła Główna Służby Pożarniczej',\n",
       "  'lang': 'pl',\n",
       "  'module': 'AR',\n",
       "  'nauthors': 2,\n",
       "  'title': 'analiza zbioru wejść i wyjść (lci) procesów produkcji wybranych górniczych materiałów wybuchowych',\n",
       "  'type': 'article',\n",
       "  'year': '2011'},\n",
       " {'author': 'B. Kuczyńska',\n",
       "  'institute': 'Wydział Inżynierii Bezpieczeństwa Pożarowego_Szkoła Główna Służby Pożarniczej',\n",
       "  'lang': 'pl',\n",
       "  'module': 'AR',\n",
       "  'nauthors': 2,\n",
       "  'title': 'analiza zbioru wejść i wyjść (lci) procesów produkcji wybranych górniczych materiałów wybuchowych',\n",
       "  'type': 'article',\n",
       "  'year': '2011'},\n",
       " {'author': 'A. Maranda',\n",
       "  'institute': 'Wydział Inżynierii Bezpieczeństwa Pożarowego_Szkoła Główna Służby Pożarniczej',\n",
       "  'lang': 'pl',\n",
       "  'module': 'AR',\n",
       "  'nauthors': 2,\n",
       "  'title': 'toksyczne oddziaływanie wybranych materiałów wybuchowych na organizmy żywe',\n",
       "  'type': 'article',\n",
       "  'year': '2011'},\n",
       " {'author': 'B. Kuczyńska',\n",
       "  'institute': 'Wydział Inżynierii Bezpieczeństwa Pożarowego_Szkoła Główna Służby Pożarniczej',\n",
       "  'lang': 'pl',\n",
       "  'module': 'AR',\n",
       "  'nauthors': 2,\n",
       "  'title': 'toksyczne oddziaływanie wybranych materiałów wybuchowych na organizmy żywe',\n",
       "  'type': 'article',\n",
       "  'year': '2011'},\n",
       " {'author': 'A. Maranda',\n",
       "  'institute': 'Wydział Inżynierii Bezpieczeństwa Pożarowego_Szkoła Główna Służby Pożarniczej',\n",
       "  'lang': 'pl',\n",
       "  'module': 'AR',\n",
       "  'nauthors': 2,\n",
       "  'title': 'zastosowanie metody oceny cyklu życia (lca) do szacowania wpływu na środowisko górniczych materiałów wybuchowych ładowanych mechanicznie',\n",
       "  'type': 'article',\n",
       "  'year': '2014'},\n",
       " {'author': 'B. Kukfisz',\n",
       "  'institute': 'Wydział Inżynierii Bezpieczeństwa Pożarowego_Szkoła Główna Służby Pożarniczej',\n",
       "  'lang': 'pl',\n",
       "  'module': 'AR',\n",
       "  'nauthors': 2,\n",
       "  'title': 'zastosowanie metody oceny cyklu życia (lca) do szacowania wpływu na środowisko górniczych materiałów wybuchowych ładowanych mechanicznie',\n",
       "  'type': 'article',\n",
       "  'year': '2014'},\n",
       " {'author': 'Daniel Małozięć',\n",
       "  'institute': 'Wydział Inżynierii Bezpieczeństwa Pożarowego_Szkoła Główna Służby Pożarniczej',\n",
       "  'lang': 'pl',\n",
       "  'module': 'AR',\n",
       "  'nauthors': 2,\n",
       "  'title': 'naukowe metody wspomagające proces ustalania przyczyn powstawania pożarów',\n",
       "  'type': 'chapter',\n",
       "  'year': '2014'},\n",
       " {'author': 'Rafał Porowski',\n",
       "  'institute': 'Wydział Inżynierii Bezpieczeństwa Pożarowego_Szkoła Główna Służby Pożarniczej',\n",
       "  'lang': 'pl',\n",
       "  'module': 'AR',\n",
       "  'nauthors': 2,\n",
       "  'title': 'naukowe metody wspomagające proces ustalania przyczyn powstawania pożarów',\n",
       "  'type': 'chapter',\n",
       "  'year': '2014'},\n",
       " {'author': 'Rafał Porowski',\n",
       "  'institute': 'Wydział Inżynierii Bezpieczeństwa Pożarowego_Szkoła Główna Służby Pożarniczej',\n",
       "  'lang': 'pl',\n",
       "  'module': 'AR',\n",
       "  'nauthors': 1,\n",
       "  'title': 'opis wybranych metod wspomagających proces oceny ryzyka',\n",
       "  'type': 'chapter',\n",
       "  'year': '2015'},\n",
       " {'author': 'Mariusz Pecio',\n",
       "  'institute': 'Wydział Inżynierii Bezpieczeństwa Pożarowego_Szkoła Główna Służby Pożarniczej',\n",
       "  'lang': 'pl',\n",
       "  'module': 'AR',\n",
       "  'nauthors': 2,\n",
       "  'title': 'analiza obliczeniowych metod wyznaczania gęstości obciążenia ogniowego',\n",
       "  'type': 'chapter',\n",
       "  'year': '2014'},\n",
       " {'author': 'Krzysztof Łącki',\n",
       "  'institute': 'Wydział Inżynierii Bezpieczeństwa Pożarowego_Szkoła Główna Służby Pożarniczej',\n",
       "  'lang': 'pl',\n",
       "  'module': 'AR',\n",
       "  'nauthors': 2,\n",
       "  'title': 'analiza obliczeniowych metod wyznaczania gęstości obciążenia ogniowego',\n",
       "  'type': 'chapter',\n",
       "  'year': '2014'},\n",
       " {'author': 'Mariusz Pecio',\n",
       "  'institute': 'Wydział Inżynierii Bezpieczeństwa Pożarowego_Szkoła Główna Służby Pożarniczej',\n",
       "  'lang': 'pl',\n",
       "  'module': 'AR',\n",
       "  'nauthors': 1,\n",
       "  'title': 'społeczno-ekonomiczne koszty pożarów',\n",
       "  'type': 'chapter',\n",
       "  'year': '2014'},\n",
       " {'author': 'Przemysław Kowalczyk',\n",
       "  'institute': 'Wydział Inżynierii Bezpieczeństwa Pożarowego_Szkoła Główna Służby Pożarniczej',\n",
       "  'lang': 'pl',\n",
       "  'module': 'AR',\n",
       "  'nauthors': 2,\n",
       "  'title': 'wpływ konstrukcji ubrań specjalnych na parametry wydolnościowe ratownika',\n",
       "  'type': 'chapter',\n",
       "  'year': '2015'},\n",
       " {'author': 'Tomasz Węsierski',\n",
       "  'institute': 'Wydział Inżynierii Bezpieczeństwa Pożarowego_Szkoła Główna Służby Pożarniczej',\n",
       "  'lang': 'pl',\n",
       "  'module': 'AR',\n",
       "  'nauthors': 2,\n",
       "  'title': 'wpływ konstrukcji ubrań specjalnych na parametry wydolnościowe ratownika',\n",
       "  'type': 'chapter',\n",
       "  'year': '2015'},\n",
       " {'author': 'Barbara Ościłowska',\n",
       "  'institute': 'Wydział Inżynierii Bezpieczeństwa Pożarowego_Szkoła Główna Służby Pożarniczej',\n",
       "  'lang': 'pl',\n",
       "  'module': 'AR',\n",
       "  'nauthors': 1,\n",
       "  'title': 'organizacja dochodzeń popożarowych w polsce',\n",
       "  'type': 'chapter',\n",
       "  'year': '2014'},\n",
       " {'author': 'Jarosław Zarzycki',\n",
       "  'institute': 'Wydział Inżynierii Bezpieczeństwa Pożarowego_Szkoła Główna Służby Pożarniczej',\n",
       "  'lang': 'pl',\n",
       "  'module': 'AR',\n",
       "  'nauthors': 1,\n",
       "  'title': 'przygotowanie operacyjne dla strażaków ubiegających się o zajmowanie stanowisk oficerskich związanych z kierowaniem działaniami ratowniczymi',\n",
       "  'type': 'edited volume',\n",
       "  'year': '2014'},\n",
       " {'author': 'Jarosław Zarzycki',\n",
       "  'institute': 'Wydział Inżynierii Bezpieczeństwa Pożarowego_Szkoła Główna Służby Pożarniczej',\n",
       "  'lang': 'pl',\n",
       "  'module': 'AR',\n",
       "  'nauthors': 1,\n",
       "  'title': 'zbiór opracowań z wykładów bloków tematycznych : nauki podstawowe oraz przygotowanie operacyjne dla strażaków ubiegających się o zajmowanie stanowisk oficerskich związanych z kierowaniem działaniami ratowniczymi',\n",
       "  'type': 'edited volume',\n",
       "  'year': '2014'},\n",
       " {'author': 'Bożena Kukfisz',\n",
       "  'institute': 'Wydział Inżynierii Bezpieczeństwa Pożarowego_Szkoła Główna Służby Pożarniczej',\n",
       "  'lang': 'pl',\n",
       "  'module': 'AR',\n",
       "  'nauthors': 1,\n",
       "  'title': 'rozpoznawanie zagrożeń chemicznych, w tym radiacyjnych oraz zjawiska pożarowo-niebezpieczne w urządzeniach elektrycznych',\n",
       "  'type': 'chapter',\n",
       "  'year': '2014'},\n",
       " {'author': 'Tomasz Drzymała',\n",
       "  'institute': 'Wydział Inżynierii Bezpieczeństwa Pożarowego_Szkoła Główna Służby Pożarniczej',\n",
       "  'lang': 'pl',\n",
       "  'module': 'AR',\n",
       "  'nauthors': 3,\n",
       "  'title': 'zbiór zadań z hydromechaniki',\n",
       "  'type': 'edited volume',\n",
       "  'year': '2014'},\n",
       " {'author': 'Jerzy Gałaj',\n",
       "  'institute': 'Wydział Inżynierii Bezpieczeństwa Pożarowego_Szkoła Główna Służby Pożarniczej',\n",
       "  'lang': 'pl',\n",
       "  'module': 'AR',\n",
       "  'nauthors': 3,\n",
       "  'title': 'zbiór zadań z hydromechaniki',\n",
       "  'type': 'edited volume',\n",
       "  'year': '2014'},\n",
       " {'author': 'Sylwester Kieliszek',\n",
       "  'institute': 'Wydział Inżynierii Bezpieczeństwa Pożarowego_Szkoła Główna Służby Pożarniczej',\n",
       "  'lang': 'pl',\n",
       "  'module': 'AR',\n",
       "  'nauthors': 3,\n",
       "  'title': 'zbiór zadań z hydromechaniki',\n",
       "  'type': 'edited volume',\n",
       "  'year': '2014'},\n",
       " {'author': 'Anna Szajewska',\n",
       "  'institute': 'Wydział Inżynierii Bezpieczeństwa Pożarowego_Szkoła Główna Służby Pożarniczej',\n",
       "  'lang': 'en',\n",
       "  'module': 'AR',\n",
       "  'nauthors': 1,\n",
       "  'title': 'aviation and the state fire service operations in poland',\n",
       "  'type': 'chapter',\n",
       "  'year': '2013'},\n",
       " {'author': 'Michał Bednarek',\n",
       "  'institute': 'Wydział Inżynierii Bezpieczeństwa Pożarowego_Szkoła Główna Służby Pożarniczej',\n",
       "  'lang': 'pl',\n",
       "  'module': 'AR',\n",
       "  'nauthors': 1,\n",
       "  'title': 'pochłanianie fal elektromagnetycznych w prezentacji termowizyjnej',\n",
       "  'type': 'chapter',\n",
       "  'year': '2014'},\n",
       " {'author': 'Włodzimierz Kupicz',\n",
       "  'institute': 'Wydział Inżynierii Bezpieczeństwa Pożarowego_Szkoła Główna Służby Pożarniczej',\n",
       "  'lang': 'pl',\n",
       "  'module': 'AR',\n",
       "  'nauthors': 2,\n",
       "  'title': 'badanie wpływu wybranych uszkodzeń na paramtery pracy motopompy pożarniczej - wyznaczenie wartości parametrów dla stanu zdatności',\n",
       "  'type': 'chapter',\n",
       "  'year': '2015'},\n",
       " {'author': 'Paweł Ogrodnik',\n",
       "  'institute': 'Wydział Inżynierii Bezpieczeństwa Pożarowego_Szkoła Główna Służby Pożarniczej',\n",
       "  'lang': 'pl',\n",
       "  'module': 'AR',\n",
       "  'nauthors': 2,\n",
       "  'title': 'badanie wpływu wybranych uszkodzeń na paramtery pracy motopompy pożarniczej - wyznaczenie wartości parametrów dla stanu zdatności',\n",
       "  'type': 'chapter',\n",
       "  'year': '2015'},\n",
       " {'author': 'Przemysław Kubica',\n",
       "  'institute': 'Wydział Inżynierii Bezpieczeństwa Pożarowego_Szkoła Główna Służby Pożarniczej',\n",
       "  'lang': 'pl',\n",
       "  'module': 'AR',\n",
       "  'nauthors': 3,\n",
       "  'title': 'zabezpieczanie przeciwpożarowe serwerowni poprzez obniżenie poziomu tlenu',\n",
       "  'type': 'chapter',\n",
       "  'year': '2015'},\n",
       " {'author': 'Rafał Porowski',\n",
       "  'institute': 'Wydział Inżynierii Bezpieczeństwa Pożarowego_Szkoła Główna Służby Pożarniczej',\n",
       "  'lang': 'pl',\n",
       "  'module': 'AR',\n",
       "  'nauthors': 3,\n",
       "  'title': 'zabezpieczanie przeciwpożarowe serwerowni poprzez obniżenie poziomu tlenu',\n",
       "  'type': 'chapter',\n",
       "  'year': '2015'},\n",
       " {'author': 'Waldemar Wnęk',\n",
       "  'institute': 'Wydział Inżynierii Bezpieczeństwa Pożarowego_Szkoła Główna Służby Pożarniczej',\n",
       "  'lang': 'pl',\n",
       "  'module': 'AR',\n",
       "  'nauthors': 3,\n",
       "  'title': 'zabezpieczanie przeciwpożarowe serwerowni poprzez obniżenie poziomu tlenu',\n",
       "  'type': 'chapter',\n",
       "  'year': '2015'},\n",
       " {'author': 'Rafał Porowski',\n",
       "  'institute': 'Wydział Inżynierii Bezpieczeństwa Pożarowego_Szkoła Główna Służby Pożarniczej',\n",
       "  'lang': 'pl',\n",
       "  'module': 'AR',\n",
       "  'nauthors': 2,\n",
       "  'title': 'wybrane aspekty projektowania wentylacji pożarowej tuneli drogowych',\n",
       "  'type': 'chapter',\n",
       "  'year': '2015'},\n",
       " {'author': 'Waldemar Wnęk',\n",
       "  'institute': 'Wydział Inżynierii Bezpieczeństwa Pożarowego_Szkoła Główna Służby Pożarniczej',\n",
       "  'lang': 'pl',\n",
       "  'module': 'AR',\n",
       "  'nauthors': 2,\n",
       "  'title': 'wybrane aspekty projektowania wentylacji pożarowej tuneli drogowych',\n",
       "  'type': 'chapter',\n",
       "  'year': '2015'},\n",
       " {'author': 'Waldemar Jaskółowski',\n",
       "  'institute': 'Wydział Inżynierii Bezpieczeństwa Pożarowego_Szkoła Główna Służby Pożarniczej',\n",
       "  'lang': 'pl',\n",
       "  'module': 'AR',\n",
       "  'nauthors': 1,\n",
       "  'title': 'zagrożenia powstające przy spalaniu izolacji kabli lub przewodów elektrycznych',\n",
       "  'type': 'chapter',\n",
       "  'year': '2015'},\n",
       " {'author': 'Waldemar Wnęk',\n",
       "  'institute': 'Wydział Inżynierii Bezpieczeństwa Pożarowego_Szkoła Główna Służby Pożarniczej',\n",
       "  'lang': 'pl',\n",
       "  'module': 'AR',\n",
       "  'nauthors': 1,\n",
       "  'title': 'techniczne systemy zabezpieczeń',\n",
       "  'type': 'chapter',\n",
       "  'year': '2014'},\n",
       " {'author': 'Jerzy Gałaj',\n",
       "  'institute': 'Wydział Inżynierii Bezpieczeństwa Pożarowego_Szkoła Główna Służby Pożarniczej',\n",
       "  'lang': 'pl',\n",
       "  'module': 'AR',\n",
       "  'nauthors': 1,\n",
       "  'title': 'ocena środowiska w zamkniętym pomieszczeniu podczas spalania drewna i materiałów polimerowych',\n",
       "  'type': 'book',\n",
       "  'year': '2015'},\n",
       " {'author': 'Marian Sochacki',\n",
       "  'institute': 'Wydział Inżynierii Bezpieczeństwa Pożarowego_Szkoła Główna Służby Pożarniczej',\n",
       "  'lang': 'pl',\n",
       "  'module': 'AR',\n",
       "  'nauthors': 1,\n",
       "  'title': 'szkolenie wysokościowe',\n",
       "  'type': 'chapter',\n",
       "  'year': '2014'},\n",
       " {'author': 'Paweł Sałek',\n",
       "  'institute': 'Wydział Inżynierii Bezpieczeństwa Pożarowego_Szkoła Główna Służby Pożarniczej',\n",
       "  'lang': 'pl',\n",
       "  'module': 'AR',\n",
       "  'nauthors': 3,\n",
       "  'title': 'próby odbiorowe systemów oddymiania z wykorzystaniem pomiaru zasięgu widzialności',\n",
       "  'type': 'article',\n",
       "  'year': '2014'},\n",
       " {'author': 'Łukasz Ostapiuk',\n",
       "  'institute': 'Wydział Inżynierii Bezpieczeństwa Pożarowego_Szkoła Główna Służby Pożarniczej',\n",
       "  'lang': 'pl',\n",
       "  'module': 'AR',\n",
       "  'nauthors': 3,\n",
       "  'title': 'próby odbiorowe systemów oddymiania z wykorzystaniem pomiaru zasięgu widzialności',\n",
       "  'type': 'article',\n",
       "  'year': '2014'},\n",
       " {'author': 'Paweł Wróbel',\n",
       "  'institute': 'Wydział Inżynierii Bezpieczeństwa Pożarowego_Szkoła Główna Służby Pożarniczej',\n",
       "  'lang': 'pl',\n",
       "  'module': 'AR',\n",
       "  'nauthors': 3,\n",
       "  'title': 'próby odbiorowe systemów oddymiania z wykorzystaniem pomiaru zasięgu widzialności',\n",
       "  'type': 'article',\n",
       "  'year': '2014'},\n",
       " {'author': 'Mateusz Fliszkiewicz',\n",
       "  'institute': 'Wydział Inżynierii Bezpieczeństwa Pożarowego_Szkoła Główna Służby Pożarniczej',\n",
       "  'lang': 'en',\n",
       "  'module': 'AR',\n",
       "  'nauthors': 2,\n",
       "  'title': 'data cleansing of the fire & rescue text corpus. the case study of correction of the misspellings and segmentation into sentences',\n",
       "  'type': 'chapter',\n",
       "  'year': '2014'},\n",
       " {'author': 'Karol Kreński',\n",
       "  'institute': 'Wydział Inżynierii Bezpieczeństwa Pożarowego_Szkoła Główna Służby Pożarniczej',\n",
       "  'lang': 'en',\n",
       "  'module': 'AR',\n",
       "  'nauthors': 2,\n",
       "  'title': 'data cleansing of the fire & rescue text corpus. the case study of correction of the misspellings and segmentation into sentences',\n",
       "  'type': 'chapter',\n",
       "  'year': '2014'},\n",
       " {'author': 'Tomasz Drzymała',\n",
       "  'institute': 'Wydział Inżynierii Bezpieczeństwa Pożarowego_Szkoła Główna Służby Pożarniczej',\n",
       "  'lang': 'pl',\n",
       "  'module': 'AR',\n",
       "  'nauthors': 3,\n",
       "  'title': 'analiza podstawowych przyczyn występowania awarii i katastrof budowlanych w polsce w latach 2004-2013',\n",
       "  'type': 'article',\n",
       "  'year': '2015'},\n",
       " {'author': 'Jerzy Gałaj',\n",
       "  'institute': 'Wydział Inżynierii Bezpieczeństwa Pożarowego_Szkoła Główna Służby Pożarniczej',\n",
       "  'lang': 'pl',\n",
       "  'module': 'AR',\n",
       "  'nauthors': 3,\n",
       "  'title': 'analiza podstawowych przyczyn występowania awarii i katastrof budowlanych w polsce w latach 2004-2013',\n",
       "  'type': 'article',\n",
       "  'year': '2015'},\n",
       " {'author': 'Sylwia Krawczyńska',\n",
       "  'institute': 'Wydział Inżynierii Bezpieczeństwa Pożarowego_Szkoła Główna Służby Pożarniczej',\n",
       "  'lang': 'pl',\n",
       "  'module': 'AR',\n",
       "  'nauthors': 3,\n",
       "  'title': 'analiza podstawowych przyczyn występowania awarii i katastrof budowlanych w polsce w latach 2004-2013',\n",
       "  'type': 'article',\n",
       "  'year': '2015'},\n",
       " {'author': 'Aleksandra Nowak',\n",
       "  'institute': 'Wydział Inżynierii Bezpieczeństwa Pożarowego_Szkoła Główna Służby Pożarniczej',\n",
       "  'lang': 'pl',\n",
       "  'module': 'AR',\n",
       "  'nauthors': 3,\n",
       "  'title': 'nowoczesne metody stabilizacji uszkodzonych konstrukcji budowlanych',\n",
       "  'type': 'article',\n",
       "  'year': '2015'},\n",
       " {'author': 'Paweł Ogrodnik',\n",
       "  'institute': 'Wydział Inżynierii Bezpieczeństwa Pożarowego_Szkoła Główna Służby Pożarniczej',\n",
       "  'lang': 'pl',\n",
       "  'module': 'AR',\n",
       "  'nauthors': 3,\n",
       "  'title': 'nowoczesne metody stabilizacji uszkodzonych konstrukcji budowlanych',\n",
       "  'type': 'article',\n",
       "  'year': '2015'},\n",
       " {'author': 'Norbert Tuśnio',\n",
       "  'institute': 'Wydział Inżynierii Bezpieczeństwa Pożarowego_Szkoła Główna Służby Pożarniczej',\n",
       "  'lang': 'pl',\n",
       "  'module': 'AR',\n",
       "  'nauthors': 3,\n",
       "  'title': 'nowoczesne metody stabilizacji uszkodzonych konstrukcji budowlanych',\n",
       "  'type': 'article',\n",
       "  'year': '2015'},\n",
       " {'author': 'Włodzimierz Kupicz',\n",
       "  'institute': 'Wydział Inżynierii Bezpieczeństwa Pożarowego_Szkoła Główna Służby Pożarniczej',\n",
       "  'lang': 'pl',\n",
       "  'module': 'AR',\n",
       "  'nauthors': 2,\n",
       "  'title': 'problemy eksploatacji pojazdów i sprzętu ratowniczo-gaśniczego w państwowej straży pożarnej',\n",
       "  'type': 'article',\n",
       "  'year': '2014'},\n",
       " {'author': 'Paweł Ogrodnik',\n",
       "  'institute': 'Wydział Inżynierii Bezpieczeństwa Pożarowego_Szkoła Główna Służby Pożarniczej',\n",
       "  'lang': 'pl',\n",
       "  'module': 'AR',\n",
       "  'nauthors': 2,\n",
       "  'title': 'problemy eksploatacji pojazdów i sprzętu ratowniczo-gaśniczego w państwowej straży pożarnej',\n",
       "  'type': 'article',\n",
       "  'year': '2014'},\n",
       " {'author': 'Dariusz Baranowski',\n",
       "  'institute': 'Wydział Inżynierii Bezpieczeństwa Pożarowego_Szkoła Główna Służby Pożarniczej',\n",
       "  'lang': 'pl',\n",
       "  'module': 'AR',\n",
       "  'nauthors': 3,\n",
       "  'title': 'analiza śladów wskazujących na możliwość podpalenia pojazdu na wybranych przykładach',\n",
       "  'type': 'article',\n",
       "  'year': '2014'},\n",
       " {'author': 'Grzegorz Kotulek',\n",
       "  'institute': 'Wydział Inżynierii Bezpieczeństwa Pożarowego_Szkoła Główna Służby Pożarniczej',\n",
       "  'lang': 'pl',\n",
       "  'module': 'AR',\n",
       "  'nauthors': 3,\n",
       "  'title': 'analiza śladów wskazujących na możliwość podpalenia pojazdu na wybranych przykładach',\n",
       "  'type': 'article',\n",
       "  'year': '2014'},\n",
       " {'author': 'Barbara Ościłowska',\n",
       "  'institute': 'Wydział Inżynierii Bezpieczeństwa Pożarowego_Szkoła Główna Służby Pożarniczej',\n",
       "  'lang': 'pl',\n",
       "  'module': 'AR',\n",
       "  'nauthors': 3,\n",
       "  'title': 'analiza śladów wskazujących na możliwość podpalenia pojazdu na wybranych przykładach',\n",
       "  'type': 'article',\n",
       "  'year': '2014'},\n",
       " {'author': 'Bożena Kukfisz',\n",
       "  'institute': 'Wydział Inżynierii Bezpieczeństwa Pożarowego_Szkoła Główna Służby Pożarniczej',\n",
       "  'lang': 'pl',\n",
       "  'module': 'AR',\n",
       "  'nauthors': 2,\n",
       "  'title': 'skutki zdarzeń awaryjnych w transporcie z udziałem wybranych paliw petrochemicznyc',\n",
       "  'type': 'article',\n",
       "  'year': '2014'},\n",
       " {'author': 'Marzena Półka',\n",
       "  'institute': 'Wydział Inżynierii Bezpieczeństwa Pożarowego_Szkoła Główna Służby Pożarniczej',\n",
       "  'lang': 'pl',\n",
       "  'module': 'AR',\n",
       "  'nauthors': 2,\n",
       "  'title': 'skutki zdarzeń awaryjnych w transporcie z udziałem wybranych paliw petrochemicznyc',\n",
       "  'type': 'article',\n",
       "  'year': '2014'},\n",
       " {'author': 'Bożena Kukfisz',\n",
       "  'institute': 'Wydział Inżynierii Bezpieczeństwa Pożarowego_Szkoła Główna Służby Pożarniczej',\n",
       "  'lang': 'pl',\n",
       "  'module': 'AR',\n",
       "  'nauthors': 2,\n",
       "  'title': 'nowy wymiar projektowania komputerowych symulatorów wirtualnych',\n",
       "  'type': 'article',\n",
       "  'year': '2015'},\n",
       " {'author': 'Sławomir Kukfisz',\n",
       "  'institute': 'Wydział Inżynierii Bezpieczeństwa Pożarowego_Szkoła Główna Służby Pożarniczej',\n",
       "  'lang': 'pl',\n",
       "  'module': 'AR',\n",
       "  'nauthors': 2,\n",
       "  'title': 'nowy wymiar projektowania komputerowych symulatorów wirtualnych',\n",
       "  'type': 'article',\n",
       "  'year': '2015'},\n",
       " {'author': 'Dariusz Baranowski',\n",
       "  'institute': 'Wydział Inżynierii Bezpieczeństwa Pożarowego_Szkoła Główna Służby Pożarniczej',\n",
       "  'lang': 'pl',\n",
       "  'module': 'AR',\n",
       "  'nauthors': 2,\n",
       "  'title': 'analiza zagrożenia pożarowego od żarówek halogenowych przy stosowaniu techniki ocieplania budynków metodą wdmuchiwania',\n",
       "  'type': 'article',\n",
       "  'year': '2014'},\n",
       " {'author': 'Grzegorz Kotulek',\n",
       "  'institute': 'Wydział Inżynierii Bezpieczeństwa Pożarowego_Szkoła Główna Służby Pożarniczej',\n",
       "  'lang': 'pl',\n",
       "  'module': 'AR',\n",
       "  'nauthors': 2,\n",
       "  'title': 'analiza zagrożenia pożarowego od żarówek halogenowych przy stosowaniu techniki ocieplania budynków metodą wdmuchiwania',\n",
       "  'type': 'article',\n",
       "  'year': '2014'},\n",
       " {'author': 'Barbara Ościłowska',\n",
       "  'institute': 'Wydział Inżynierii Bezpieczeństwa Pożarowego_Szkoła Główna Służby Pożarniczej',\n",
       "  'lang': 'pl',\n",
       "  'module': 'AR',\n",
       "  'nauthors': 1,\n",
       "  'title': 'pożar budynku socjalnego w kamieniu pomorskim',\n",
       "  'type': 'article',\n",
       "  'year': '2015'},\n",
       " {'author': 'Bożena Kukfisz',\n",
       "  'institute': 'Wydział Inżynierii Bezpieczeństwa Pożarowego_Szkoła Główna Służby Pożarniczej',\n",
       "  'lang': 'en',\n",
       "  'module': 'AR',\n",
       "  'nauthors': 2,\n",
       "  'title': 'comparative analysis of minimal ignition temperatures of layer and clouds of wood-based dust',\n",
       "  'type': 'article',\n",
       "  'year': '2014'},\n",
       " {'author': 'Marzena Półka',\n",
       "  'institute': 'Wydział Inżynierii Bezpieczeństwa Pożarowego_Szkoła Główna Służby Pożarniczej',\n",
       "  'lang': 'en',\n",
       "  'module': 'AR',\n",
       "  'nauthors': 2,\n",
       "  'title': 'comparative analysis of minimal ignition temperatures of layer and clouds of wood-based dust',\n",
       "  'type': 'article',\n",
       "  'year': '2014'},\n",
       " {'author': 'Wojciech Feluch',\n",
       "  'institute': 'Wydział Inżynierii Bezpieczeństwa Pożarowego_Szkoła Główna Służby Pożarniczej',\n",
       "  'lang': 'pl',\n",
       "  'module': 'AR',\n",
       "  'nauthors': 2,\n",
       "  'title': 'koncepcja lokalnego systemu ostrzeżeń i prognoz (lsop) dla powiatu busko',\n",
       "  'type': 'article',\n",
       "  'year': '2015'},\n",
       " {'author': 'Janusz Żelaziński',\n",
       "  'institute': 'Wydział Inżynierii Bezpieczeństwa Pożarowego_Szkoła Główna Służby Pożarniczej',\n",
       "  'lang': 'pl',\n",
       "  'module': 'AR',\n",
       "  'nauthors': 2,\n",
       "  'title': 'koncepcja lokalnego systemu ostrzeżeń i prognoz (lsop) dla powiatu busko',\n",
       "  'type': 'article',\n",
       "  'year': '2015'},\n",
       " {'author': 'Paweł Ogrodnik',\n",
       "  'institute': 'Wydział Inżynierii Bezpieczeństwa Pożarowego_Szkoła Główna Służby Pożarniczej',\n",
       "  'lang': 'pl',\n",
       "  'module': 'AR',\n",
       "  'nauthors': 4,\n",
       "  'title': 'przyczyny powstawania awarii i katastrof budowlanych w budynkach szkieletowych',\n",
       "  'type': 'article',\n",
       "  'year': '2015'},\n",
       " {'author': 'Jacek Szulej',\n",
       "  'institute': 'Wydział Inżynierii Bezpieczeństwa Pożarowego_Szkoła Główna Służby Pożarniczej',\n",
       "  'lang': 'pl',\n",
       "  'module': 'AR',\n",
       "  'nauthors': 4,\n",
       "  'title': 'przyczyny powstawania awarii i katastrof budowlanych w budynkach szkieletowych',\n",
       "  'type': 'article',\n",
       "  'year': '2015'},\n",
       " {'author': 'Norbert Tuśnio',\n",
       "  'institute': 'Wydział Inżynierii Bezpieczeństwa Pożarowego_Szkoła Główna Służby Pożarniczej',\n",
       "  'lang': 'pl',\n",
       "  'module': 'AR',\n",
       "  'nauthors': 4,\n",
       "  'title': 'przyczyny powstawania awarii i katastrof budowlanych w budynkach szkieletowych',\n",
       "  'type': 'article',\n",
       "  'year': '2015'},\n",
       " {'author': 'Bartosz Zegardło',\n",
       "  'institute': 'Wydział Inżynierii Bezpieczeństwa Pożarowego_Szkoła Główna Służby Pożarniczej',\n",
       "  'lang': 'pl',\n",
       "  'module': 'AR',\n",
       "  'nauthors': 4,\n",
       "  'title': 'przyczyny powstawania awarii i katastrof budowlanych w budynkach szkieletowych',\n",
       "  'type': 'article',\n",
       "  'year': '2015'},\n",
       " {'author': 'Bożena Kukfisz',\n",
       "  'institute': 'Wydział Inżynierii Bezpieczeństwa Pożarowego_Szkoła Główna Służby Pożarniczej',\n",
       "  'lang': 'pl',\n",
       "  'module': 'AR',\n",
       "  'nauthors': 2,\n",
       "  'title': 'zagrożenia związane z zastosowaniem, magazynowaniem oraz transportem acetylenu',\n",
       "  'type': 'article',\n",
       "  'year': '2015'},\n",
       " {'author': 'Marzena Półka',\n",
       "  'institute': 'Wydział Inżynierii Bezpieczeństwa Pożarowego_Szkoła Główna Służby Pożarniczej',\n",
       "  'lang': 'pl',\n",
       "  'module': 'AR',\n",
       "  'nauthors': 2,\n",
       "  'title': 'zagrożenia związane z zastosowaniem, magazynowaniem oraz transportem acetylenu',\n",
       "  'type': 'article',\n",
       "  'year': '2015'},\n",
       " {'author': 'Bożena Kukfisz',\n",
       "  'institute': 'Wydział Inżynierii Bezpieczeństwa Pożarowego_Szkoła Główna Służby Pożarniczej',\n",
       "  'lang': 'pl',\n",
       "  'module': 'AR',\n",
       "  'nauthors': 4,\n",
       "  'title': 'analiza skuteczności wybranych sorbentów wykorzystanych do pochłaniania par substancji ropopochodnych w działaniach ratowniczych',\n",
       "  'type': 'article',\n",
       "  'year': '2015'},\n",
       " {'author': 'M. Kwarcak',\n",
       "  'institute': 'Wydział Inżynierii Bezpieczeństwa Pożarowego_Szkoła Główna Służby Pożarniczej',\n",
       "  'lang': 'pl',\n",
       "  'module': 'AR',\n",
       "  'nauthors': 4,\n",
       "  'title': 'analiza skuteczności wybranych sorbentów wykorzystanych do pochłaniania par substancji ropopochodnych w działaniach ratowniczych',\n",
       "  'type': 'article',\n",
       "  'year': '2015'},\n",
       " {'author': 'Marzena Półka',\n",
       "  'institute': 'Wydział Inżynierii Bezpieczeństwa Pożarowego_Szkoła Główna Służby Pożarniczej',\n",
       "  'lang': 'pl',\n",
       "  'module': 'AR',\n",
       "  'nauthors': 4,\n",
       "  'title': 'analiza skuteczności wybranych sorbentów wykorzystanych do pochłaniania par substancji ropopochodnych w działaniach ratowniczych',\n",
       "  'type': 'article',\n",
       "  'year': '2015'},\n",
       " {'author': 'Piotr Wysocki',\n",
       "  'institute': 'Wydział Inżynierii Bezpieczeństwa Pożarowego_Szkoła Główna Służby Pożarniczej',\n",
       "  'lang': 'pl',\n",
       "  'module': 'AR',\n",
       "  'nauthors': 4,\n",
       "  'title': 'analiza skuteczności wybranych sorbentów wykorzystanych do pochłaniania par substancji ropopochodnych w działaniach ratowniczych',\n",
       "  'type': 'article',\n",
       "  'year': '2015'},\n",
       " {'author': 'Dariusz Baranowski',\n",
       "  'institute': 'Wydział Inżynierii Bezpieczeństwa Pożarowego_Szkoła Główna Służby Pożarniczej',\n",
       "  'lang': 'pl',\n",
       "  'module': 'AR',\n",
       "  'nauthors': 3,\n",
       "  'title': 'pożary pojazdów samochodowych jako potencjalna podstawa oszustwa ubezpieczeniowego',\n",
       "  'type': 'article',\n",
       "  'year': '2014'},\n",
       " {'author': 'Grzegorz Kotulek',\n",
       "  'institute': 'Wydział Inżynierii Bezpieczeństwa Pożarowego_Szkoła Główna Służby Pożarniczej',\n",
       "  'lang': 'pl',\n",
       "  'module': 'AR',\n",
       "  'nauthors': 3,\n",
       "  'title': 'pożary pojazdów samochodowych jako potencjalna podstawa oszustwa ubezpieczeniowego',\n",
       "  'type': 'article',\n",
       "  'year': '2014'},\n",
       " {'author': 'Barbara Ościłowska',\n",
       "  'institute': 'Wydział Inżynierii Bezpieczeństwa Pożarowego_Szkoła Główna Służby Pożarniczej',\n",
       "  'lang': 'pl',\n",
       "  'module': 'AR',\n",
       "  'nauthors': 3,\n",
       "  'title': 'pożary pojazdów samochodowych jako potencjalna podstawa oszustwa ubezpieczeniowego',\n",
       "  'type': 'article',\n",
       "  'year': '2014'},\n",
       " {'author': 'Jerzy Gałaj',\n",
       "  'institute': 'Wydział Inżynierii Bezpieczeństwa Pożarowego_Szkoła Główna Służby Pożarniczej',\n",
       "  'lang': 'pl',\n",
       "  'module': 'AR',\n",
       "  'nauthors': 5,\n",
       "  'title': 'interaktywna modułowa platforma oceny zagrożenia pożarowego budynków jako narzędzie wspomagające projektowanie budynków i obiektów budowlanych',\n",
       "  'type': 'article',\n",
       "  'year': '2013'},\n",
       " {'author': 'Waldemar Jaskółowski',\n",
       "  'institute': 'Wydział Inżynierii Bezpieczeństwa Pożarowego_Szkoła Główna Służby Pożarniczej',\n",
       "  'lang': 'pl',\n",
       "  'module': 'AR',\n",
       "  'nauthors': 5,\n",
       "  'title': 'interaktywna modułowa platforma oceny zagrożenia pożarowego budynków jako narzędzie wspomagające projektowanie budynków i obiektów budowlanych',\n",
       "  'type': 'article',\n",
       "  'year': '2013'},\n",
       " {'author': 'Marek Konecki',\n",
       "  'institute': 'Wydział Inżynierii Bezpieczeństwa Pożarowego_Szkoła Główna Służby Pożarniczej',\n",
       "  'lang': 'pl',\n",
       "  'module': 'AR',\n",
       "  'nauthors': 5,\n",
       "  'title': 'interaktywna modułowa platforma oceny zagrożenia pożarowego budynków jako narzędzie wspomagające projektowanie budynków i obiektów budowlanych',\n",
       "  'type': 'article',\n",
       "  'year': '2013'},\n",
       " {'author': 'Piotr Tofiło',\n",
       "  'institute': 'Wydział Inżynierii Bezpieczeństwa Pożarowego_Szkoła Główna Służby Pożarniczej',\n",
       "  'lang': 'pl',\n",
       "  'module': 'AR',\n",
       "  'nauthors': 5,\n",
       "  'title': 'interaktywna modułowa platforma oceny zagrożenia pożarowego budynków jako narzędzie wspomagające projektowanie budynków i obiektów budowlanych',\n",
       "  'type': 'article',\n",
       "  'year': '2013'},\n",
       " {'author': 'Norbert Tuśnio',\n",
       "  'institute': 'Wydział Inżynierii Bezpieczeństwa Pożarowego_Szkoła Główna Służby Pożarniczej',\n",
       "  'lang': 'pl',\n",
       "  'module': 'AR',\n",
       "  'nauthors': 5,\n",
       "  'title': 'interaktywna modułowa platforma oceny zagrożenia pożarowego budynków jako narzędzie wspomagające projektowanie budynków i obiektów budowlanych',\n",
       "  'type': 'article',\n",
       "  'year': '2013'},\n",
       " {'author': 'Marcin Cisek',\n",
       "  'institute': 'Wydział Inżynierii Bezpieczeństwa Pożarowego_Szkoła Główna Służby Pożarniczej',\n",
       "  'lang': 'pl',\n",
       "  'module': 'AR',\n",
       "  'nauthors': 6,\n",
       "  'title': 'system eksperckiej oceny zagrożeń i ryzyka pożarowego w budynkach',\n",
       "  'type': 'article',\n",
       "  'year': '2013'},\n",
       " {'author': 'Jerzy Gałaj',\n",
       "  'institute': 'Wydział Inżynierii Bezpieczeństwa Pożarowego_Szkoła Główna Służby Pożarniczej',\n",
       "  'lang': 'pl',\n",
       "  'module': 'AR',\n",
       "  'nauthors': 6,\n",
       "  'title': 'system eksperckiej oceny zagrożeń i ryzyka pożarowego w budynkach',\n",
       "  'type': 'article',\n",
       "  'year': '2013'},\n",
       " {'author': 'Waldemar Jaskółowski',\n",
       "  'institute': 'Wydział Inżynierii Bezpieczeństwa Pożarowego_Szkoła Główna Służby Pożarniczej',\n",
       "  'lang': 'pl',\n",
       "  'module': 'AR',\n",
       "  'nauthors': 6,\n",
       "  'title': 'system eksperckiej oceny zagrożeń i ryzyka pożarowego w budynkach',\n",
       "  'type': 'article',\n",
       "  'year': '2013'},\n",
       " {'author': 'Marek Konecki',\n",
       "  'institute': 'Wydział Inżynierii Bezpieczeństwa Pożarowego_Szkoła Główna Służby Pożarniczej',\n",
       "  'lang': 'pl',\n",
       "  'module': 'AR',\n",
       "  'nauthors': 6,\n",
       "  'title': 'system eksperckiej oceny zagrożeń i ryzyka pożarowego w budynkach',\n",
       "  'type': 'article',\n",
       "  'year': '2013'},\n",
       " {'author': 'Piotr Tofiło',\n",
       "  'institute': 'Wydział Inżynierii Bezpieczeństwa Pożarowego_Szkoła Główna Służby Pożarniczej',\n",
       "  'lang': 'pl',\n",
       "  'module': 'AR',\n",
       "  'nauthors': 6,\n",
       "  'title': 'system eksperckiej oceny zagrożeń i ryzyka pożarowego w budynkach',\n",
       "  'type': 'article',\n",
       "  'year': '2013'},\n",
       " {'author': 'Norbert Tuśnio',\n",
       "  'institute': 'Wydział Inżynierii Bezpieczeństwa Pożarowego_Szkoła Główna Służby Pożarniczej',\n",
       "  'lang': 'pl',\n",
       "  'module': 'AR',\n",
       "  'nauthors': 6,\n",
       "  'title': 'system eksperckiej oceny zagrożeń i ryzyka pożarowego w budynkach',\n",
       "  'type': 'article',\n",
       "  'year': '2013'},\n",
       " {'author': 'Waldemar Jaskółowski',\n",
       "  'institute': 'Wydział Inżynierii Bezpieczeństwa Pożarowego_Szkoła Główna Służby Pożarniczej',\n",
       "  'lang': 'pl',\n",
       "  'module': 'AR',\n",
       "  'nauthors': 2,\n",
       "  'title': 'interaktywna modułowa platforma oceny zagrożenia pożarowego budynków',\n",
       "  'type': 'article',\n",
       "  'year': '2012'},\n",
       " {'author': 'Piotr Tofiło',\n",
       "  'institute': 'Wydział Inżynierii Bezpieczeństwa Pożarowego_Szkoła Główna Służby Pożarniczej',\n",
       "  'lang': 'pl',\n",
       "  'module': 'AR',\n",
       "  'nauthors': 2,\n",
       "  'title': 'interaktywna modułowa platforma oceny zagrożenia pożarowego budynków',\n",
       "  'type': 'article',\n",
       "  'year': '2012'},\n",
       " {'author': 'Jerzy Gałaj',\n",
       "  'institute': 'Wydział Inżynierii Bezpieczeństwa Pożarowego_Szkoła Główna Służby Pożarniczej',\n",
       "  'lang': 'en',\n",
       "  'module': 'AR',\n",
       "  'nauthors': 2,\n",
       "  'title': 'some approach to upper layer cooling process with spray stream generated by water nozzle using computer simulation method',\n",
       "  'type': 'article',\n",
       "  'year': '2014'},\n",
       " {'author': 'Łukasz Żurawski',\n",
       "  'institute': 'Wydział Inżynierii Bezpieczeństwa Pożarowego_Szkoła Główna Służby Pożarniczej',\n",
       "  'lang': 'en',\n",
       "  'module': 'AR',\n",
       "  'nauthors': 2,\n",
       "  'title': 'some approach to upper layer cooling process with spray stream generated by water nozzle using computer simulation method',\n",
       "  'type': 'article',\n",
       "  'year': '2014'},\n",
       " {'author': 'Włodzimierz Kupicz',\n",
       "  'institute': 'Wydział Inżynierii Bezpieczeństwa Pożarowego_Szkoła Główna Służby Pożarniczej',\n",
       "  'lang': 'pl',\n",
       "  'module': 'AR',\n",
       "  'nauthors': 2,\n",
       "  'title': 'badanie wpływu wybranych uszkodzeń na parametry pracy motopompy   pożarniczej – wyznaczenie wartości parametrów dla stanu zdatności',\n",
       "  'type': 'chapter',\n",
       "  'year': '2015'},\n",
       " {'author': 'Paweł Ogrodnik',\n",
       "  'institute': 'Wydział Inżynierii Bezpieczeństwa Pożarowego_Szkoła Główna Służby Pożarniczej',\n",
       "  'lang': 'pl',\n",
       "  'module': 'AR',\n",
       "  'nauthors': 2,\n",
       "  'title': 'badanie wpływu wybranych uszkodzeń na parametry pracy motopompy   pożarniczej – wyznaczenie wartości parametrów dla stanu zdatności',\n",
       "  'type': 'chapter',\n",
       "  'year': '2015'},\n",
       " {'author': 'Włodzimierz Kupicz',\n",
       "  'institute': 'Wydział Inżynierii Bezpieczeństwa Pożarowego_Szkoła Główna Służby Pożarniczej',\n",
       "  'lang': 'pl',\n",
       "  'module': 'AR',\n",
       "  'nauthors': 2,\n",
       "  'title': 'badanie wpływu symulowanych uszkodzeń na wartość parametrów diagnostycznych motopompy pożarniczej otter 6/5',\n",
       "  'type': 'article',\n",
       "  'year': '2015'},\n",
       " {'author': 'Paweł Ogrodnik',\n",
       "  'institute': 'Wydział Inżynierii Bezpieczeństwa Pożarowego_Szkoła Główna Służby Pożarniczej',\n",
       "  'lang': 'pl',\n",
       "  'module': 'AR',\n",
       "  'nauthors': 2,\n",
       "  'title': 'badanie wpływu symulowanych uszkodzeń na wartość parametrów diagnostycznych motopompy pożarniczej otter 6/5',\n",
       "  'type': 'article',\n",
       "  'year': '2015'},\n",
       " {'author': 'Adam Krasuski',\n",
       "  'institute': 'Wydział Inżynierii Bezpieczeństwa Pożarowego_Szkoła Główna Służby Pożarniczej',\n",
       "  'lang': 'pl',\n",
       "  'module': 'AR',\n",
       "  'nauthors': 3,\n",
       "  'title': 'studium teoretyczne przewidywania zagrożenia wystąpienia rozgorzenia, wstecznego ciągu płomieni oraz zapalenia gazów pożarowych',\n",
       "  'type': 'article',\n",
       "  'year': '2016'},\n",
       " {'author': 'Andrzej Krauze',\n",
       "  'institute': 'Wydział Inżynierii Bezpieczeństwa Pożarowego_Szkoła Główna Służby Pożarniczej',\n",
       "  'lang': 'pl',\n",
       "  'module': 'AR',\n",
       "  'nauthors': 3,\n",
       "  'title': 'studium teoretyczne przewidywania zagrożenia wystąpienia rozgorzenia, wstecznego ciągu płomieni oraz zapalenia gazów pożarowych',\n",
       "  'type': 'article',\n",
       "  'year': '2016'},\n",
       " {'author': 'Bartłomiej Ślęczkowski',\n",
       "  'institute': 'Wydział Inżynierii Bezpieczeństwa Pożarowego_Szkoła Główna Służby Pożarniczej',\n",
       "  'lang': 'pl',\n",
       "  'module': 'AR',\n",
       "  'nauthors': 3,\n",
       "  'title': 'studium teoretyczne przewidywania zagrożenia wystąpienia rozgorzenia, wstecznego ciągu płomieni oraz zapalenia gazów pożarowych',\n",
       "  'type': 'article',\n",
       "  'year': '2016'},\n",
       " {'author': 'Monika Blukacz',\n",
       "  'institute': 'Wydział Inżynierii Bezpieczeństwa Pożarowego_Szkoła Główna Służby Pożarniczej',\n",
       "  'lang': 'pl',\n",
       "  'module': 'AR',\n",
       "  'nauthors': 5,\n",
       "  'title': 'zastosowanie inżynierii odwrotnej w celu odtworzenia elementów wyposażenia ochrony osobistej służb pożarniczych.',\n",
       "  'type': 'article',\n",
       "  'year': '2015'},\n",
       " {'author': 'Mirosław Guzik',\n",
       "  'institute': 'Wydział Inżynierii Bezpieczeństwa Pożarowego_Szkoła Główna Służby Pożarniczej',\n",
       "  'lang': 'pl',\n",
       "  'module': 'AR',\n",
       "  'nauthors': 5,\n",
       "  'title': 'zastosowanie inżynierii odwrotnej w celu odtworzenia elementów wyposażenia ochrony osobistej służb pożarniczych.',\n",
       "  'type': 'article',\n",
       "  'year': '2015'},\n",
       " {'author': 'Renata Kamocka-bronisz',\n",
       "  'institute': 'Wydział Inżynierii Bezpieczeństwa Pożarowego_Szkoła Główna Służby Pożarniczej',\n",
       "  'lang': 'pl',\n",
       "  'module': 'AR',\n",
       "  'nauthors': 5,\n",
       "  'title': 'zastosowanie inżynierii odwrotnej w celu odtworzenia elementów wyposażenia ochrony osobistej służb pożarniczych.',\n",
       "  'type': 'article',\n",
       "  'year': '2015'},\n",
       " {'author': 'Paweł Ogrodnik',\n",
       "  'institute': 'Wydział Inżynierii Bezpieczeństwa Pożarowego_Szkoła Główna Służby Pożarniczej',\n",
       "  'lang': 'pl',\n",
       "  'module': 'AR',\n",
       "  'nauthors': 5,\n",
       "  'title': 'zastosowanie inżynierii odwrotnej w celu odtworzenia elementów wyposażenia ochrony osobistej służb pożarniczych.',\n",
       "  'type': 'article',\n",
       "  'year': '2015'},\n",
       " {'author': 'Daniel Pieniak',\n",
       "  'institute': 'Wydział Inżynierii Bezpieczeństwa Pożarowego_Szkoła Główna Służby Pożarniczej',\n",
       "  'lang': 'pl',\n",
       "  'module': 'AR',\n",
       "  'nauthors': 5,\n",
       "  'title': 'zastosowanie inżynierii odwrotnej w celu odtworzenia elementów wyposażenia ochrony osobistej służb pożarniczych.',\n",
       "  'type': 'article',\n",
       "  'year': '2015'},\n",
       " {'author': 'Tomasz Kniaziewicz',\n",
       "  'institute': 'Wydział Inżynierii Bezpieczeństwa Pożarowego_Szkoła Główna Służby Pożarniczej',\n",
       "  'lang': 'en',\n",
       "  'module': 'AR',\n",
       "  'nauthors': 2,\n",
       "  'title': 'numerical studies of nitrogen oxides emissions in the main propulsion engine exhaust under various cruising conditions',\n",
       "  'type': 'article',\n",
       "  'year': '2014'},\n",
       " {'author': 'Leszek Piaseczny',\n",
       "  'institute': 'Wydział Inżynierii Bezpieczeństwa Pożarowego_Szkoła Główna Służby Pożarniczej',\n",
       "  'lang': 'en',\n",
       "  'module': 'AR',\n",
       "  'nauthors': 2,\n",
       "  'title': 'numerical studies of nitrogen oxides emissions in the main propulsion engine exhaust under various cruising conditions',\n",
       "  'type': 'article',\n",
       "  'year': '2014'},\n",
       " {'author': 'Agata Niewczas',\n",
       "  'institute': 'Wydział Inżynierii Bezpieczeństwa Pożarowego_Szkoła Główna Służby Pożarniczej',\n",
       "  'lang': 'en',\n",
       "  'module': 'AR',\n",
       "  'nauthors': 3,\n",
       "  'title': 'effect of recasting on the useful properties cocrmow alloy',\n",
       "  'type': 'article',\n",
       "  'year': '2014'},\n",
       " {'author': 'Daniel Pieniak',\n",
       "  'institute': 'Wydział Inżynierii Bezpieczeństwa Pożarowego_Szkoła Główna Służby Pożarniczej',\n",
       "  'lang': 'en',\n",
       "  'module': 'AR',\n",
       "  'nauthors': 3,\n",
       "  'title': 'effect of recasting on the useful properties cocrmow alloy',\n",
       "  'type': 'article',\n",
       "  'year': '2014'},\n",
       " {'author': 'Mariusz Walczak',\n",
       "  'institute': 'Wydział Inżynierii Bezpieczeństwa Pożarowego_Szkoła Główna Służby Pożarniczej',\n",
       "  'lang': 'en',\n",
       "  'module': 'AR',\n",
       "  'nauthors': 3,\n",
       "  'title': 'effect of recasting on the useful properties cocrmow alloy',\n",
       "  'type': 'article',\n",
       "  'year': '2014'},\n",
       " {'author': 'Leszek Gil',\n",
       "  'institute': 'Wydział Inżynierii Bezpieczeństwa Pożarowego_Szkoła Główna Służby Pożarniczej',\n",
       "  'lang': 'en',\n",
       "  'module': 'AR',\n",
       "  'nauthors': 5,\n",
       "  'title': 'impact of acid number of fuels on the wear process of apparatus for fuel injection in diesel engines',\n",
       "  'type': 'article',\n",
       "  'year': '2014'},\n",
       " {'author': 'Piotr Ignaciuk',\n",
       "  'institute': 'Wydział Inżynierii Bezpieczeństwa Pożarowego_Szkoła Główna Służby Pożarniczej',\n",
       "  'lang': 'en',\n",
       "  'module': 'AR',\n",
       "  'nauthors': 5,\n",
       "  'title': 'impact of acid number of fuels on the wear process of apparatus for fuel injection in diesel engines',\n",
       "  'type': 'article',\n",
       "  'year': '2014'},\n",
       " {'author': 'Daniel Pieniak',\n",
       "  'institute': 'Wydział Inżynierii Bezpieczeństwa Pożarowego_Szkoła Główna Służby Pożarniczej',\n",
       "  'lang': 'en',\n",
       "  'module': 'AR',\n",
       "  'nauthors': 5,\n",
       "  'title': 'impact of acid number of fuels on the wear process of apparatus for fuel injection in diesel engines',\n",
       "  'type': 'article',\n",
       "  'year': '2014'},\n",
       " {'author': 'Józef Sawa',\n",
       "  'institute': 'Wydział Inżynierii Bezpieczeństwa Pożarowego_Szkoła Główna Służby Pożarniczej',\n",
       "  'lang': 'en',\n",
       "  'module': 'AR',\n",
       "  'nauthors': 5,\n",
       "  'title': 'impact of acid number of fuels on the wear process of apparatus for fuel injection in diesel engines',\n",
       "  'type': 'article',\n",
       "  'year': '2014'},\n",
       " {'author': 'Mariusz Walczak',\n",
       "  'institute': 'Wydział Inżynierii Bezpieczeństwa Pożarowego_Szkoła Główna Służby Pożarniczej',\n",
       "  'lang': 'en',\n",
       "  'module': 'AR',\n",
       "  'nauthors': 5,\n",
       "  'title': 'impact of acid number of fuels on the wear process of apparatus for fuel injection in diesel engines',\n",
       "  'type': 'article',\n",
       "  'year': '2014'},\n",
       " {'author': 'Agata Niewczas',\n",
       "  'institute': 'Wydział Inżynierii Bezpieczeństwa Pożarowego_Szkoła Główna Służby Pożarniczej',\n",
       "  'lang': 'en',\n",
       "  'module': 'AR',\n",
       "  'nauthors': 4,\n",
       "  'title': 'influence of photopolymerization parameters on the mechanical properties of polymer-ceramic composites applied in the conservative dentistry',\n",
       "  'type': 'article',\n",
       "  'year': '2014'},\n",
       " {'author': 'Daniel Pieniak',\n",
       "  'institute': 'Wydział Inżynierii Bezpieczeństwa Pożarowego_Szkoła Główna Służby Pożarniczej',\n",
       "  'lang': 'en',\n",
       "  'module': 'AR',\n",
       "  'nauthors': 4,\n",
       "  'title': 'influence of photopolymerization parameters on the mechanical properties of polymer-ceramic composites applied in the conservative dentistry',\n",
       "  'type': 'article',\n",
       "  'year': '2014'},\n",
       " {'author': 'Mariusz Walczak',\n",
       "  'institute': 'Wydział Inżynierii Bezpieczeństwa Pożarowego_Szkoła Główna Służby Pożarniczej',\n",
       "  'lang': 'en',\n",
       "  'module': 'AR',\n",
       "  'nauthors': 4,\n",
       "  'title': 'influence of photopolymerization parameters on the mechanical properties of polymer-ceramic composites applied in the conservative dentistry',\n",
       "  'type': 'article',\n",
       "  'year': '2014'},\n",
       " {'author': 'Agata Zamościńska',\n",
       "  'institute': 'Wydział Inżynierii Bezpieczeństwa Pożarowego_Szkoła Główna Służby Pożarniczej',\n",
       "  'lang': 'en',\n",
       "  'module': 'AR',\n",
       "  'nauthors': 4,\n",
       "  'title': 'influence of photopolymerization parameters on the mechanical properties of polymer-ceramic composites applied in the conservative dentistry',\n",
       "  'type': 'article',\n",
       "  'year': '2014'},\n",
       " {'author': 'Daniel Pieniak',\n",
       "  'institute': 'Wydział Inżynierii Bezpieczeństwa Pożarowego_Szkoła Główna Służby Pożarniczej',\n",
       "  'lang': 'en',\n",
       "  'module': 'AR',\n",
       "  'nauthors': 3,\n",
       "  'title': 'the tribological characteristics of sic particle reinforced aluminium composites',\n",
       "  'type': 'article',\n",
       "  'year': '2015'},\n",
       " {'author': 'Mariusz Walczak',\n",
       "  'institute': 'Wydział Inżynierii Bezpieczeństwa Pożarowego_Szkoła Główna Służby Pożarniczej',\n",
       "  'lang': 'en',\n",
       "  'module': 'AR',\n",
       "  'nauthors': 3,\n",
       "  'title': 'the tribological characteristics of sic particle reinforced aluminium composites',\n",
       "  'type': 'article',\n",
       "  'year': '2015'},\n",
       " {'author': 'Maciej Zwierzchowski',\n",
       "  'institute': 'Wydział Inżynierii Bezpieczeństwa Pożarowego_Szkoła Główna Służby Pożarniczej',\n",
       "  'lang': 'en',\n",
       "  'module': 'AR',\n",
       "  'nauthors': 3,\n",
       "  'title': 'the tribological characteristics of sic particle reinforced aluminium composites',\n",
       "  'type': 'article',\n",
       "  'year': '2015'}]"
      ]
     },
     "execution_count": 12,
     "metadata": {},
     "output_type": "execute_result"
    }
   ],
   "source": [
    "ns = '{http://pbn.nauka.gov.pl/-/ns/bibliography}'\n",
    "\n",
    "def process_file(f):\n",
    "    m = re.match(r'^(S|R|RS|AR)_(.*)_\\d+\\.xml', os.path.basename(f))\n",
    "    if not m:\n",
    "        raise Exception()\n",
    "    \n",
    "    results = []\n",
    "    \n",
    "    record = {}\n",
    "    record['module'] = m.group(1)\n",
    "    record['institute'] = m.group(2)\n",
    "    \n",
    "    root = xml.etree.ElementTree.parse(f).getroot()\n",
    "    for w in root:\n",
    "        record['type'] = re.sub(r'.*}', '', w.tag)\n",
    "        record['title'] = w.find(ns + 'title').text.strip().lower()\n",
    "        try:\n",
    "            record['lang'] = w.find(ns + 'lang').text.strip().lower()\n",
    "        except Exception:\n",
    "            record['lang'] = ''\n",
    "        record['year'] = w.find(ns + 'publication-date')\n",
    "        if record['year'] != None and record['year'].text != None:\n",
    "            record['year'] = record['year'].text\n",
    "            record['year'] = re.sub(r'(\\d\\d\\d\\d)-.*', r'\\1', record['year'])\n",
    "        try:\n",
    "            nothers = int(w.find(ns + 'other-contributors').text)\n",
    "        except Exception:\n",
    "            nothers = 0\n",
    "        if record['type'] == 'book' and w.findall(ns + 'editor'):\n",
    "            record['type'] = 'edited volume'\n",
    "        authors = []\n",
    "        authorselems = w.findall(ns + 'author') + w.findall(ns + 'editor')\n",
    "        if record['type'] == 'edited volume':\n",
    "            authorselems = w.findall(ns + 'editor')\n",
    "        for a in authorselems:\n",
    "            try:\n",
    "                fullname  = a.find(ns+'given-names').text.strip().capitalize()\n",
    "                fullname += ' '\n",
    "                fullname += a.find(ns+'family-name').text.strip().capitalize()\n",
    "                authors.append(fullname)\n",
    "            except Exception:\n",
    "                # This happens if there is first name or surname information missing in XML\n",
    "                pass\n",
    "        record['nauthors'] = len(authors) + nothers\n",
    "        \n",
    "        if False: # or 'show data':\n",
    "            print(record['module'])\n",
    "            print(record['institute'])\n",
    "            print(record['lang'])\n",
    "            print(record['year'])\n",
    "            print(record['type'] + ': ' + record['title'])\n",
    "            print(record['nauthors'])\n",
    "            for a in authors:\n",
    "                print(a)\n",
    "            print('--')\n",
    "            \n",
    "        for a in authors:\n",
    "            record['author'] = a\n",
    "            results.append(dict(record))\n",
    "    \n",
    "    return results\n",
    "      \n",
    "f = 'ExportData/AR_Wydział Inżynierii Bezpieczeństwa Pożarowego_Szkoła Główna Służby Pożarniczej_126.xml'\n",
    "process_file(f)"
   ]
  },
  {
   "cell_type": "markdown",
   "metadata": {},
   "source": [
    "Process all XML input data files into a single DataFrame object"
   ]
  },
  {
   "cell_type": "code",
   "execution_count": null,
   "metadata": {},
   "outputs": [],
   "source": [
    "# %%time\n",
    "df = pd.DataFrame()\n",
    "for f in glob.glob('ExportData/*.xml'):\n",
    "    #print(f)\n",
    "    try:\n",
    "        df = df.append(pd.DataFrame(process_file(f)))\n",
    "    except Exception:\n",
    "        print(\"Error: \" + f)\n",
    "    "
   ]
  },
  {
   "cell_type": "markdown",
   "metadata": {},
   "source": [
    "### Basic sanity checks"
   ]
  },
  {
   "cell_type": "markdown",
   "metadata": {},
   "source": [
    "If all is fine, then below show return no records."
   ]
  },
  {
   "cell_type": "code",
   "execution_count": 18,
   "metadata": {
    "scrolled": true
   },
   "outputs": [
    {
     "data": {
      "text/html": [
       "<div>\n",
       "<table border=\"1\" class=\"dataframe\">\n",
       "  <thead>\n",
       "    <tr style=\"text-align: right;\">\n",
       "      <th></th>\n",
       "      <th>author</th>\n",
       "      <th>institute</th>\n",
       "      <th>lang</th>\n",
       "      <th>module</th>\n",
       "      <th>nauthors</th>\n",
       "      <th>title</th>\n",
       "      <th>type</th>\n",
       "      <th>year</th>\n",
       "    </tr>\n",
       "  </thead>\n",
       "  <tbody>\n",
       "  </tbody>\n",
       "</table>\n",
       "</div>"
      ],
      "text/plain": [
       "Empty DataFrame\n",
       "Columns: [author, institute, lang, module, nauthors, title, type, year]\n",
       "Index: []"
      ]
     },
     "execution_count": 18,
     "metadata": {},
     "output_type": "execute_result"
    }
   ],
   "source": [
    "df[df.lang.str.lower().str.contains('<element')]"
   ]
  },
  {
   "cell_type": "markdown",
   "metadata": {},
   "source": [
    "If all is fine, then 'lang' should be empty string in below."
   ]
  },
  {
   "cell_type": "code",
   "execution_count": 19,
   "metadata": {
    "scrolled": true
   },
   "outputs": [
    {
     "data": {
      "text/html": [
       "<div>\n",
       "<table border=\"1\" class=\"dataframe\">\n",
       "  <thead>\n",
       "    <tr style=\"text-align: right;\">\n",
       "      <th></th>\n",
       "      <th>author</th>\n",
       "      <th>institute</th>\n",
       "      <th>lang</th>\n",
       "      <th>module</th>\n",
       "      <th>nauthors</th>\n",
       "      <th>title</th>\n",
       "      <th>type</th>\n",
       "      <th>year</th>\n",
       "    </tr>\n",
       "  </thead>\n",
       "  <tbody>\n",
       "  </tbody>\n",
       "</table>\n",
       "</div>"
      ],
      "text/plain": [
       "Empty DataFrame\n",
       "Columns: [author, institute, lang, module, nauthors, title, type, year]\n",
       "Index: []"
      ]
     },
     "execution_count": 19,
     "metadata": {},
     "output_type": "execute_result"
    }
   ],
   "source": [
    "df[df.title.str.startswith('a method for estimating the efficiency of')]"
   ]
  },
  {
   "cell_type": "markdown",
   "metadata": {},
   "source": [
    "Write the result to output CSV file."
   ]
  },
  {
   "cell_type": "code",
   "execution_count": 17,
   "metadata": {
    "collapsed": true
   },
   "outputs": [],
   "source": [
    "df.to_csv('data.csv')"
   ]
  },
  {
   "cell_type": "code",
   "execution_count": 18,
   "metadata": {
    "collapsed": true
   },
   "outputs": [],
   "source": [
    "# df.to_excel('data.xlsx')"
   ]
  },
  {
   "cell_type": "markdown",
   "metadata": {},
   "source": [
    "## Main analysis"
   ]
  },
  {
   "cell_type": "markdown",
   "metadata": {},
   "source": [
    "Warning below can be neglected, there is only some performance impact in data loading stage, but not significant."
   ]
  },
  {
   "cell_type": "code",
   "execution_count": 16,
   "metadata": {
    "scrolled": true
   },
   "outputs": [
    {
     "name": "stdout",
     "output_type": "stream",
     "text": [
      "CPU times: user 7.08 s, sys: 180 ms, total: 7.26 s\n",
      "Wall time: 7.26 s\n"
     ]
    }
   ],
   "source": [
    "%%time\n",
    "df=pd.read_csv('data.csv.gz',index_col=0)\n",
    "df=df.fillna('')"
   ]
  },
  {
   "cell_type": "code",
   "execution_count": 17,
   "metadata": {
    "scrolled": true
   },
   "outputs": [
    {
     "name": "stdout",
     "output_type": "stream",
     "text": [
      "(1579843, 8)\n"
     ]
    },
    {
     "data": {
      "text/html": [
       "<div>\n",
       "<table border=\"1\" class=\"dataframe\">\n",
       "  <thead>\n",
       "    <tr style=\"text-align: right;\">\n",
       "      <th></th>\n",
       "      <th>author</th>\n",
       "      <th>institute</th>\n",
       "      <th>lang</th>\n",
       "      <th>module</th>\n",
       "      <th>nauthors</th>\n",
       "      <th>title</th>\n",
       "      <th>type</th>\n",
       "      <th>year</th>\n",
       "    </tr>\n",
       "  </thead>\n",
       "  <tbody>\n",
       "    <tr>\n",
       "      <th>0</th>\n",
       "      <td>Ewa Borkowska-bagieńska</td>\n",
       "      <td>Kolegium Pedagogiczne_Politechnika Śląska</td>\n",
       "      <td>pl</td>\n",
       "      <td>AR</td>\n",
       "      <td>2</td>\n",
       "      <td>tożsamość europejczyków</td>\n",
       "      <td>edited volume</td>\n",
       "      <td>2014</td>\n",
       "    </tr>\n",
       "    <tr>\n",
       "      <th>1</th>\n",
       "      <td>Beata Wojewoda</td>\n",
       "      <td>Kolegium Pedagogiczne_Politechnika Śląska</td>\n",
       "      <td>pl</td>\n",
       "      <td>AR</td>\n",
       "      <td>2</td>\n",
       "      <td>tożsamość europejczyków</td>\n",
       "      <td>edited volume</td>\n",
       "      <td>2014</td>\n",
       "    </tr>\n",
       "    <tr>\n",
       "      <th>0</th>\n",
       "      <td>Tomasz Gawron</td>\n",
       "      <td>Wydział Transportu_Politechnika Śląska</td>\n",
       "      <td>pl</td>\n",
       "      <td>AR</td>\n",
       "      <td>2</td>\n",
       "      <td>optymalna strategia przejazdu monocykla przez ...</td>\n",
       "      <td>article</td>\n",
       "      <td>2014</td>\n",
       "    </tr>\n",
       "    <tr>\n",
       "      <th>1</th>\n",
       "      <td>Maciej Michałek</td>\n",
       "      <td>Wydział Transportu_Politechnika Śląska</td>\n",
       "      <td>pl</td>\n",
       "      <td>AR</td>\n",
       "      <td>2</td>\n",
       "      <td>optymalna strategia przejazdu monocykla przez ...</td>\n",
       "      <td>article</td>\n",
       "      <td>2014</td>\n",
       "    </tr>\n",
       "    <tr>\n",
       "      <th>2</th>\n",
       "      <td>Szymon Surma</td>\n",
       "      <td>Wydział Transportu_Politechnika Śląska</td>\n",
       "      <td>en</td>\n",
       "      <td>AR</td>\n",
       "      <td>1</td>\n",
       "      <td>network safety in railroad traffic control sys...</td>\n",
       "      <td>article</td>\n",
       "      <td>2009</td>\n",
       "    </tr>\n",
       "  </tbody>\n",
       "</table>\n",
       "</div>"
      ],
      "text/plain": [
       "                    author                                  institute lang  \\\n",
       "0  Ewa Borkowska-bagieńska  Kolegium Pedagogiczne_Politechnika Śląska   pl   \n",
       "1           Beata Wojewoda  Kolegium Pedagogiczne_Politechnika Śląska   pl   \n",
       "0            Tomasz Gawron     Wydział Transportu_Politechnika Śląska   pl   \n",
       "1          Maciej Michałek     Wydział Transportu_Politechnika Śląska   pl   \n",
       "2             Szymon Surma     Wydział Transportu_Politechnika Śląska   en   \n",
       "\n",
       "  module  nauthors                                              title  \\\n",
       "0     AR         2                            tożsamość europejczyków   \n",
       "1     AR         2                            tożsamość europejczyków   \n",
       "0     AR         2  optymalna strategia przejazdu monocykla przez ...   \n",
       "1     AR         2  optymalna strategia przejazdu monocykla przez ...   \n",
       "2     AR         1  network safety in railroad traffic control sys...   \n",
       "\n",
       "            type  year  \n",
       "0  edited volume  2014  \n",
       "1  edited volume  2014  \n",
       "0        article  2014  \n",
       "1        article  2014  \n",
       "2        article  2009  "
      ]
     },
     "execution_count": 17,
     "metadata": {},
     "output_type": "execute_result"
    }
   ],
   "source": [
    "print(df.shape)\n",
    "df.head()"
   ]
  },
  {
   "cell_type": "markdown",
   "metadata": {},
   "source": [
    "### Number of records for each module comparison"
   ]
  },
  {
   "cell_type": "code",
   "execution_count": 20,
   "metadata": {},
   "outputs": [],
   "source": [
    "%matplotlib inline"
   ]
  },
  {
   "cell_type": "code",
   "execution_count": 21,
   "metadata": {
    "scrolled": true
   },
   "outputs": [
    {
     "data": {
      "text/plain": [
       "<matplotlib.axes._subplots.AxesSubplot at 0x7ff3cab65240>"
      ]
     },
     "execution_count": 21,
     "metadata": {},
     "output_type": "execute_result"
    },
    {
     "data": {
      "image/png": "[encoded data removed]",
      "text/plain": [
       "<matplotlib.figure.Figure at 0x7ff3ce01c7f0>"
      ]
     },
     "metadata": {},
     "output_type": "display_data"
    }
   ],
   "source": [
    "df.groupby('module').size().plot(kind='bar',rot=45)"
   ]
  },
  {
   "cell_type": "markdown",
   "metadata": {},
   "source": [
    "This means that most records are stored in \"R\" module, and \"AR\" is the second.  There are almost no records in \"RS\" or \"S\"."
   ]
  },
  {
   "cell_type": "markdown",
   "metadata": {},
   "source": [
    "## Works distribution by year in \"AR\" module"
   ]
  },
  {
   "cell_type": "code",
   "execution_count": 22,
   "metadata": {},
   "outputs": [],
   "source": [
    "df['year'] = df['year'].map(lambda v: int(str(v)[:4])  if re.match(r'^\\d\\d\\d\\d.*', str(v)) else None)\n",
    "df['year'] = df['year'].map(lambda v: None if v < 1950 else v)\n",
    "df['year'] = df['year'].map(lambda v: None if v > 2017 else v)"
   ]
  },
  {
   "cell_type": "code",
   "execution_count": 29,
   "metadata": {},
   "outputs": [
    {
     "data": {
      "text/plain": [
       "<matplotlib.text.Text at 0x7ff3bdfb5550>"
      ]
     },
     "execution_count": 29,
     "metadata": {},
     "output_type": "execute_result"
    },
    {
     "data": {
      "image/png": "[encoded data removed]",
      "text/plain": [
       "<matplotlib.figure.Figure at 0x7ff3ca65bb00>"
      ]
     },
     "metadata": {},
     "output_type": "display_data"
    }
   ],
   "source": [
    "df[(df.module=='AR')&(df.year!=None)&(df.year>2000)]['year'].apply(int).value_counts().sort_index()\\\n",
    "    .plot(kind='bar',rot=45,grid=True, figsize=(12,8))\n",
    "plt.title('Distribution by year in \"AR\" module')"
   ]
  },
  {
   "cell_type": "markdown",
   "metadata": {},
   "source": [
    "## Language analysis"
   ]
  },
  {
   "cell_type": "markdown",
   "metadata": {},
   "source": [
    "Fix the most common language synonyms."
   ]
  },
  {
   "cell_type": "code",
   "execution_count": 30,
   "metadata": {},
   "outputs": [],
   "source": [
    "df['lang'] = df['lang'].apply(lambda v: 'en' if v in \\\n",
    "                 ('english', 'angielski','eng','ang','polski i angielski','angielski i polski', \\\n",
    "                  'dwujęzyczna: polski, angielski', 'en angielski', 'polski, angielski') else v)\n",
    "df['lang'] = df['lang'].apply(lambda v: 'pl' if v in \\\n",
    "                 ('polski', 'pol', 'polski.') else v)\n",
    "df['lang'] = df['lang'].apply(lambda v: 'ru' if v in \\\n",
    "                 ('rus', 'rosyjski') else v)\n",
    "df['lang'] = df['lang'].apply(lambda v: 'de' if v in \\\n",
    "                 ('niemiecki') else v)\n",
    "df['lang'] = df['lang'].apply(lambda v: 'fr' if v in \\\n",
    "                 ('francuski') else v)\n",
    "df['lang'] = df['lang'].apply(lambda v: 'uk' if v in \\\n",
    "                 ('ukraiński') else v)\n",
    "df['lang'] = df['lang'].apply(lambda v: 'es' if v in \\\n",
    "                 ('hiszpański') else v)\n",
    "df['lang'] = df['lang'].apply(lambda v: 'it' if v in \\\n",
    "                 ('włoski') else v)"
   ]
  },
  {
   "cell_type": "code",
   "execution_count": 34,
   "metadata": {},
   "outputs": [
    {
     "data": {
      "text/plain": [
       "<matplotlib.text.Text at 0x7ff3d6fa37b8>"
      ]
     },
     "execution_count": 34,
     "metadata": {},
     "output_type": "execute_result"
    },
    {
     "data": {
      "image/png": "[encoded data removed]",
      "text/plain": [
       "<matplotlib.figure.Figure at 0x7ff3e6c79e48>"
      ]
     },
     "metadata": {},
     "output_type": "display_data"
    }
   ],
   "source": [
    "df[df.module=='AR'].groupby('lang').size().sort_values(ascending=True).tail(10).plot.barh(grid=True, figsize=(12,8))\n",
    "plt.title('Distribution by language in \"AR\" module')"
   ]
  },
  {
   "cell_type": "markdown",
   "metadata": {},
   "source": [
    "## Authors who (co-)authored most papers"
   ]
  },
  {
   "cell_type": "code",
   "execution_count": 36,
   "metadata": {},
   "outputs": [
    {
     "data": {
      "text/plain": [
       "<matplotlib.axes._subplots.AxesSubplot at 0x7ff3d7802208>"
      ]
     },
     "execution_count": 36,
     "metadata": {},
     "output_type": "execute_result"
    },
    {
     "data": {
      "image/png": "[encoded data removed]",
      "text/plain": [
       "<matplotlib.figure.Figure at 0x7ff3c9a03550>"
      ]
     },
     "metadata": {},
     "output_type": "display_data"
    }
   ],
   "source": [
    "df[df.module=='AR'].author.value_counts(ascending=True).tail(20).plot.barh(grid=True, figsize=(12,8))"
   ]
  },
  {
   "cell_type": "markdown",
   "metadata": {},
   "source": [
    "## Histogram of publications count by single author"
   ]
  },
  {
   "cell_type": "code",
   "execution_count": 38,
   "metadata": {},
   "outputs": [
    {
     "data": {
      "text/plain": [
       "<matplotlib.axes._subplots.AxesSubplot at 0x7ff3c92dc518>"
      ]
     },
     "execution_count": 38,
     "metadata": {},
     "output_type": "execute_result"
    },
    {
     "data": {
      "image/png": "[encoded data removed]",
      "text/plain": [
       "<matplotlib.figure.Figure at 0x7ff3ca3735c0>"
      ]
     },
     "metadata": {},
     "output_type": "display_data"
    }
   ],
   "source": [
    "df.author.value_counts().apply(lambda v: min(150,v)).hist(bins=50, figsize=(12,8))"
   ]
  },
  {
   "cell_type": "markdown",
   "metadata": {},
   "source": [
    "## (Co-)authors count histogram"
   ]
  },
  {
   "cell_type": "code",
   "execution_count": 39,
   "metadata": {},
   "outputs": [
    {
     "data": {
      "text/plain": [
       "<matplotlib.axes._subplots.AxesSubplot at 0x7ff3c98c86a0>"
      ]
     },
     "execution_count": 39,
     "metadata": {},
     "output_type": "execute_result"
    },
    {
     "data": {
      "image/png": "[encoded data removed]",
      "text/plain": [
       "<matplotlib.figure.Figure at 0x7ff3c90fb6a0>"
      ]
     },
     "metadata": {},
     "output_type": "display_data"
    }
   ],
   "source": [
    "df.nauthors.value_counts().head(10).plot.bar(rot=45, figsize=(12,8))"
   ]
  },
  {
   "cell_type": "markdown",
   "metadata": {},
   "source": [
    "## Work types distribution"
   ]
  },
  {
   "cell_type": "code",
   "execution_count": 40,
   "metadata": {},
   "outputs": [
    {
     "data": {
      "text/plain": [
       "<matplotlib.axes._subplots.AxesSubplot at 0x7ff3c8c56b00>"
      ]
     },
     "execution_count": 40,
     "metadata": {},
     "output_type": "execute_result"
    },
    {
     "data": {
      "image/png": "[encoded data removed]",
      "text/plain": [
       "<matplotlib.figure.Figure at 0x7ff3c9018860>"
      ]
     },
     "metadata": {},
     "output_type": "display_data"
    }
   ],
   "source": [
    "df[df.module=='AR']['type'].value_counts().plot.bar(rot=45, figsize=(12,8))"
   ]
  },
  {
   "cell_type": "markdown",
   "metadata": {},
   "source": [
    "## Institutes which published most works"
   ]
  },
  {
   "cell_type": "code",
   "execution_count": 42,
   "metadata": {},
   "outputs": [
    {
     "data": {
      "text/plain": [
       "<matplotlib.axes._subplots.AxesSubplot at 0x7ff3bd8cc898>"
      ]
     },
     "execution_count": 42,
     "metadata": {},
     "output_type": "execute_result"
    },
    {
     "data": {
      "image/png": "[encoded data removed]",
      "text/plain": [
       "<matplotlib.figure.Figure at 0x7ff3c9926ef0>"
      ]
     },
     "metadata": {},
     "output_type": "display_data"
    }
   ],
   "source": [
    "df.institute.str.lower().value_counts(ascending=True).tail(15).plot.barh(figsize=(12,8))"
   ]
  },
  {
   "cell_type": "markdown",
   "metadata": {},
   "source": [
    "*Remark*:  Absolute values on horizontal axis should not be taken directly (it is actually infuenced by number of co-authors)"
   ]
  },
  {
   "cell_type": "markdown",
   "metadata": {},
   "source": [
    "## Work types for selected top institutes by year"
   ]
  },
  {
   "cell_type": "code",
   "execution_count": 48,
   "metadata": {},
   "outputs": [
    {
     "data": {
      "text/plain": [
       "<matplotlib.axes._subplots.AxesSubplot at 0x7ff3cdfea668>"
      ]
     },
     "execution_count": 48,
     "metadata": {},
     "output_type": "execute_result"
    },
    {
     "data": {
      "image/png": "[encoded data removed]",
      "text/plain": [
       "<matplotlib.figure.Figure at 0x7ff3d17657f0>"
      ]
     },
     "metadata": {},
     "output_type": "display_data"
    }
   ],
   "source": [
    "pd.pivot_table(\n",
    "df[(df.institute.str.lower()=='politechnika łódzka_root') & (df.module=='AR')], \\\n",
    "    values = 'title',\n",
    "    index='year', columns='type',aggfunc='count').fillna(0).applymap(int).plot.bar(rot=90, figsize=(12,8))"
   ]
  },
  {
   "cell_type": "code",
   "execution_count": 45,
   "metadata": {},
   "outputs": [
    {
     "data": {
      "text/plain": [
       "<matplotlib.axes._subplots.AxesSubplot at 0x7ff3e16d5d68>"
      ]
     },
     "execution_count": 45,
     "metadata": {},
     "output_type": "execute_result"
    },
    {
     "data": {
      "image/png": "[encoded data removed]",
      "text/plain": [
       "<matplotlib.figure.Figure at 0x7ff3e1f5f588>"
      ]
     },
     "metadata": {},
     "output_type": "display_data"
    }
   ],
   "source": [
    "pd.pivot_table(\n",
    "df[(df.institute=='Narodowe Centrum Badań Jądrowych_ROOT') & (df.module=='AR')], \\\n",
    "    values = 'title',\n",
    "    index='year', columns='type',aggfunc='count').fillna(0).applymap(int).plot.bar(rot=30, figsize=(12,8))"
   ]
  },
  {
   "cell_type": "markdown",
   "metadata": {},
   "source": [
    "## Co-authored works - National Centre for Nuclear Research"
   ]
  },
  {
   "cell_type": "code",
   "execution_count": 49,
   "metadata": {},
   "outputs": [],
   "source": [
    "df['coauthored'] = df.nauthors > 1"
   ]
  },
  {
   "cell_type": "code",
   "execution_count": 51,
   "metadata": {},
   "outputs": [
    {
     "data": {
      "text/plain": [
       "<matplotlib.axes._subplots.AxesSubplot at 0x7ff3cf451e10>"
      ]
     },
     "execution_count": 51,
     "metadata": {},
     "output_type": "execute_result"
    },
    {
     "data": {
      "image/png": "[encoded data removed]",
      "text/plain": [
       "<matplotlib.figure.Figure at 0x7ff3db443a90>"
      ]
     },
     "metadata": {},
     "output_type": "display_data"
    }
   ],
   "source": [
    "pd.pivot_table(\n",
    "    df[(df.institute=='Narodowe Centrum Badań Jądrowych_ROOT') & (df.year > 2000)],\n",
    "    index='year', columns='coauthored', aggfunc='count', values='title' ).fillna(0).applymap(int).plot.bar(rot=30, figsize=(12,8))"
   ]
  },
  {
   "cell_type": "markdown",
   "metadata": {},
   "source": [
    "## Co-authored works - Lodz University of Technology"
   ]
  },
  {
   "cell_type": "code",
   "execution_count": 52,
   "metadata": {},
   "outputs": [
    {
     "data": {
      "text/plain": [
       "<matplotlib.axes._subplots.AxesSubplot at 0x7ff3ba849f28>"
      ]
     },
     "execution_count": 52,
     "metadata": {},
     "output_type": "execute_result"
    },
    {
     "data": {
      "image/png": "[encoded data removed]",
      "text/plain": [
       "<matplotlib.figure.Figure at 0x7ff3c9f1a710>"
      ]
     },
     "metadata": {},
     "output_type": "display_data"
    }
   ],
   "source": [
    "pd.pivot_table(\n",
    "    df[(df.institute=='Politechnika Łódzka_ROOT') & (df.year > 2000)],\n",
    "    index='year', columns='coauthored', aggfunc='count', values='title' ).fillna(0).applymap(int).plot.bar(rot=30, figsize=(12,8))"
   ]
  },
  {
   "cell_type": "markdown",
   "metadata": {},
   "source": [
    "## Particular author analysis"
   ]
  },
  {
   "cell_type": "code",
   "execution_count": 53,
   "metadata": {},
   "outputs": [
    {
     "name": "stdout",
     "output_type": "stream",
     "text": [
      "CPU times: user 180 ms, sys: 359 µs, total: 180 ms\n",
      "Wall time: 178 ms\n"
     ]
    },
    {
     "data": {
      "text/html": [
       "<div>\n",
       "<table border=\"1\" class=\"dataframe\">\n",
       "  <thead>\n",
       "    <tr style=\"text-align: right;\">\n",
       "      <th></th>\n",
       "      <th>author</th>\n",
       "      <th>institute</th>\n",
       "      <th>lang</th>\n",
       "      <th>module</th>\n",
       "      <th>nauthors</th>\n",
       "      <th>title</th>\n",
       "      <th>type</th>\n",
       "      <th>year</th>\n",
       "      <th>coauthored</th>\n",
       "    </tr>\n",
       "  </thead>\n",
       "  <tbody>\n",
       "    <tr>\n",
       "      <th>724</th>\n",
       "      <td>Emanuel Kulczycki</td>\n",
       "      <td>Wydział Nauk Społecznych_Uniwersytet Gdański</td>\n",
       "      <td>en</td>\n",
       "      <td>AR</td>\n",
       "      <td>10</td>\n",
       "      <td>information and media literacy of polish child...</td>\n",
       "      <td>chapter</td>\n",
       "      <td>2014.0</td>\n",
       "      <td>True</td>\n",
       "    </tr>\n",
       "    <tr>\n",
       "      <th>364</th>\n",
       "      <td>Emanuel Kulczycki</td>\n",
       "      <td>Wydział Nauk Społecznych_Uniwersytet im Adama ...</td>\n",
       "      <td>pl</td>\n",
       "      <td>AR</td>\n",
       "      <td>1</td>\n",
       "      <td>wykorzystanie mediów społecznościowych przez a...</td>\n",
       "      <td>chapter</td>\n",
       "      <td>2012.0</td>\n",
       "      <td>False</td>\n",
       "    </tr>\n",
       "    <tr>\n",
       "      <th>580</th>\n",
       "      <td>Emanuel Kulczycki</td>\n",
       "      <td>Wydział Nauk Społecznych_Uniwersytet im Adama ...</td>\n",
       "      <td>en</td>\n",
       "      <td>AR</td>\n",
       "      <td>10</td>\n",
       "      <td>information and media literacy of polish child...</td>\n",
       "      <td>chapter</td>\n",
       "      <td>2014.0</td>\n",
       "      <td>True</td>\n",
       "    </tr>\n",
       "    <tr>\n",
       "      <th>599</th>\n",
       "      <td>Emanuel Kulczycki</td>\n",
       "      <td>Wydział Nauk Społecznych_Uniwersytet im Adama ...</td>\n",
       "      <td>pl</td>\n",
       "      <td>AR</td>\n",
       "      <td>1</td>\n",
       "      <td>teoretyzowanie komunikacji</td>\n",
       "      <td>book</td>\n",
       "      <td>2012.0</td>\n",
       "      <td>False</td>\n",
       "    </tr>\n",
       "    <tr>\n",
       "      <th>604</th>\n",
       "      <td>Emanuel Kulczycki</td>\n",
       "      <td>Wydział Nauk Społecznych_Uniwersytet im Adama ...</td>\n",
       "      <td>pl</td>\n",
       "      <td>AR</td>\n",
       "      <td>2</td>\n",
       "      <td>komunikologia. teoria i praktyka komunikacji</td>\n",
       "      <td>edited volume</td>\n",
       "      <td>2012.0</td>\n",
       "      <td>True</td>\n",
       "    </tr>\n",
       "    <tr>\n",
       "      <th>607</th>\n",
       "      <td>Emanuel Kulczycki</td>\n",
       "      <td>Wydział Nauk Społecznych_Uniwersytet im Adama ...</td>\n",
       "      <td>pl</td>\n",
       "      <td>AR</td>\n",
       "      <td>3</td>\n",
       "      <td>język – rozumienie – komunikacja”</td>\n",
       "      <td>edited volume</td>\n",
       "      <td>2011.0</td>\n",
       "      <td>True</td>\n",
       "    </tr>\n",
       "    <tr>\n",
       "      <th>612</th>\n",
       "      <td>Emanuel Kulczycki</td>\n",
       "      <td>Wydział Nauk Społecznych_Uniwersytet im Adama ...</td>\n",
       "      <td>pl</td>\n",
       "      <td>AR</td>\n",
       "      <td>9</td>\n",
       "      <td>dzieci sieci 2.0: kompetencje komunikacyjne mł...</td>\n",
       "      <td>book</td>\n",
       "      <td>2013.0</td>\n",
       "      <td>True</td>\n",
       "    </tr>\n",
       "    <tr>\n",
       "      <th>618</th>\n",
       "      <td>Emanuel Kulczycki</td>\n",
       "      <td>Wydział Nauk Społecznych_Uniwersytet im Adama ...</td>\n",
       "      <td>pl</td>\n",
       "      <td>AR</td>\n",
       "      <td>1</td>\n",
       "      <td>sytuacja komunikacyjna w kulturze archaicznej ...</td>\n",
       "      <td>article</td>\n",
       "      <td>2012.0</td>\n",
       "      <td>False</td>\n",
       "    </tr>\n",
       "    <tr>\n",
       "      <th>619</th>\n",
       "      <td>Emanuel Kulczycki</td>\n",
       "      <td>Wydział Nauk Społecznych_Uniwersytet im Adama ...</td>\n",
       "      <td>pl</td>\n",
       "      <td>AR</td>\n",
       "      <td>1</td>\n",
       "      <td>kulturowo-obiektywne istnienie procesu komunik...</td>\n",
       "      <td>article</td>\n",
       "      <td>2011.0</td>\n",
       "      <td>False</td>\n",
       "    </tr>\n",
       "    <tr>\n",
       "      <th>620</th>\n",
       "      <td>Emanuel Kulczycki</td>\n",
       "      <td>Wydział Nauk Społecznych_Uniwersytet im Adama ...</td>\n",
       "      <td>en</td>\n",
       "      <td>AR</td>\n",
       "      <td>1</td>\n",
       "      <td>the development of leibniz’s considerations in...</td>\n",
       "      <td>article</td>\n",
       "      <td>2009.0</td>\n",
       "      <td>False</td>\n",
       "    </tr>\n",
       "  </tbody>\n",
       "</table>\n",
       "</div>"
      ],
      "text/plain": [
       "                author                                          institute  \\\n",
       "724  Emanuel Kulczycki       Wydział Nauk Społecznych_Uniwersytet Gdański   \n",
       "364  Emanuel Kulczycki  Wydział Nauk Społecznych_Uniwersytet im Adama ...   \n",
       "580  Emanuel Kulczycki  Wydział Nauk Społecznych_Uniwersytet im Adama ...   \n",
       "599  Emanuel Kulczycki  Wydział Nauk Społecznych_Uniwersytet im Adama ...   \n",
       "604  Emanuel Kulczycki  Wydział Nauk Społecznych_Uniwersytet im Adama ...   \n",
       "607  Emanuel Kulczycki  Wydział Nauk Społecznych_Uniwersytet im Adama ...   \n",
       "612  Emanuel Kulczycki  Wydział Nauk Społecznych_Uniwersytet im Adama ...   \n",
       "618  Emanuel Kulczycki  Wydział Nauk Społecznych_Uniwersytet im Adama ...   \n",
       "619  Emanuel Kulczycki  Wydział Nauk Społecznych_Uniwersytet im Adama ...   \n",
       "620  Emanuel Kulczycki  Wydział Nauk Społecznych_Uniwersytet im Adama ...   \n",
       "\n",
       "    lang module  nauthors                                              title  \\\n",
       "724   en     AR        10  information and media literacy of polish child...   \n",
       "364   pl     AR         1  wykorzystanie mediów społecznościowych przez a...   \n",
       "580   en     AR        10  information and media literacy of polish child...   \n",
       "599   pl     AR         1                         teoretyzowanie komunikacji   \n",
       "604   pl     AR         2       komunikologia. teoria i praktyka komunikacji   \n",
       "607   pl     AR         3                  język – rozumienie – komunikacja”   \n",
       "612   pl     AR         9  dzieci sieci 2.0: kompetencje komunikacyjne mł...   \n",
       "618   pl     AR         1  sytuacja komunikacyjna w kulturze archaicznej ...   \n",
       "619   pl     AR         1  kulturowo-obiektywne istnienie procesu komunik...   \n",
       "620   en     AR         1  the development of leibniz’s considerations in...   \n",
       "\n",
       "              type    year coauthored  \n",
       "724        chapter  2014.0       True  \n",
       "364        chapter  2012.0      False  \n",
       "580        chapter  2014.0       True  \n",
       "599           book  2012.0      False  \n",
       "604  edited volume  2012.0       True  \n",
       "607  edited volume  2011.0       True  \n",
       "612           book  2013.0       True  \n",
       "618        article  2012.0      False  \n",
       "619        article  2011.0      False  \n",
       "620        article  2009.0      False  "
      ]
     },
     "execution_count": 53,
     "metadata": {},
     "output_type": "execute_result"
    }
   ],
   "source": [
    "%%time\n",
    "df[df.author == 'Emanuel Kulczycki'].head(10)"
   ]
  },
  {
   "cell_type": "code",
   "execution_count": 55,
   "metadata": {},
   "outputs": [
    {
     "data": {
      "text/plain": [
       "<matplotlib.axes._subplots.AxesSubplot at 0x7ff3ca046f60>"
      ]
     },
     "execution_count": 55,
     "metadata": {},
     "output_type": "execute_result"
    },
    {
     "data": {
      "image/png": "[encoded data removed]",
      "text/plain": [
       "<matplotlib.figure.Figure at 0x7ff3bdb50dd8>"
      ]
     },
     "metadata": {},
     "output_type": "display_data"
    }
   ],
   "source": [
    "df[(df.author == 'Emanuel Kulczycki')&(df.module=='AR')].groupby('year')['year'].count().apply(int).plot(kind='bar', figsize=(12,8))"
   ]
  },
  {
   "cell_type": "code",
   "execution_count": 56,
   "metadata": {},
   "outputs": [
    {
     "data": {
      "text/plain": [
       "199195"
      ]
     },
     "execution_count": 56,
     "metadata": {},
     "output_type": "execute_result"
    }
   ],
   "source": [
    "df.author.nunique()"
   ]
  },
  {
   "cell_type": "markdown",
   "metadata": {
    "collapsed": true
   },
   "source": [
    "## GWO assignments"
   ]
  },
  {
   "cell_type": "code",
   "execution_count": null,
   "metadata": {
    "collapsed": true
   },
   "outputs": [],
   "source": [
    "%%time\n",
    "df=pd.read_csv('data.csv.gz',index_col=0)"
   ]
  },
  {
   "cell_type": "markdown",
   "metadata": {},
   "source": [
    "Read GWOs raw mappings"
   ]
  },
  {
   "cell_type": "code",
   "execution_count": null,
   "metadata": {
    "collapsed": true
   },
   "outputs": [],
   "source": [
    "pd.read_csv('GWOs.txt', sep='|', names=['lp', 'institute', 'code'], index_col=0).head()"
   ]
  },
  {
   "cell_type": "markdown",
   "metadata": {},
   "source": [
    "Institutes names processsing:\n",
    "\n",
    "* all to lower case\n",
    "* remove _ROOT\n",
    "* remove all punctuations\n",
    "* remove single letters and \"sp\", \"oo\"\n",
    "* \"paostwowy\" -> \"państwowy\"\n",
    "* %s/[^a-ząęóśłżźćńĄĘÓŚŁŻŹĆŃ |0-9]//g\n",
    "* ń -> o"
   ]
  },
  {
   "cell_type": "code",
   "execution_count": null,
   "metadata": {
    "collapsed": true
   },
   "outputs": [],
   "source": [
    "def processInstituteName(ins):\n",
    "    res = ins.lower()\n",
    "    res = re.sub(r'_root', '', res)\n",
    "    res = re.sub(r'[^a-ząęóśłżźćńĄĘÓŚŁŻŹĆŃ |0-9]', ' ', res)\n",
    "    res = re.sub(r'\\b\\w{1,2}\\b', ' ', res)\n",
    "    res = re.sub(r' +', ' ', res)\n",
    "    res = res.split()\n",
    "    res.sort()\n",
    "    res = ' '.join(res)\n",
    "    #res = re.sub(r'ń', 'o', res)\n",
    "    return res"
   ]
  },
  {
   "cell_type": "code",
   "execution_count": null,
   "metadata": {
    "collapsed": true
   },
   "outputs": [],
   "source": [
    "INSTITUTES_MAPPIGS = {}\n",
    "for line in open('GWOs.txt', 'r').readlines():\n",
    "    institute, code = line.strip().split('|')\n",
    "    institute = processInstituteName(institute)\n",
    "    # print(institute)\n",
    "    INSTITUTES_MAPPIGS[institute] = code"
   ]
  },
  {
   "cell_type": "code",
   "execution_count": null,
   "metadata": {
    "collapsed": true
   },
   "outputs": [],
   "source": [
    "print(INSTITUTES_MAPPIGS)"
   ]
  },
  {
   "cell_type": "code",
   "execution_count": null,
   "metadata": {
    "collapsed": true
   },
   "outputs": [],
   "source": []
  },
  {
   "cell_type": "code",
   "execution_count": null,
   "metadata": {
    "collapsed": true
   },
   "outputs": [],
   "source": [
    "df['institute'].head()"
   ]
  },
  {
   "cell_type": "code",
   "execution_count": null,
   "metadata": {
    "collapsed": true
   },
   "outputs": [],
   "source": [
    "def institute2code(ins):\n",
    "    res = processInstituteName(ins)\n",
    "    if res in INSTITUTES_MAPPIGS:\n",
    "        return INSTITUTES_MAPPIGS[res]\n",
    "    return None\n",
    "\n",
    "#print(institute2code('Akademia Leona Koźmińskiego w Warszawie_ROOT'))\n",
    "\n",
    "if True:\n",
    "    for i in df['institute'].head():\n",
    "        print(institute2code(i))"
   ]
  },
  {
   "cell_type": "code",
   "execution_count": null,
   "metadata": {
    "collapsed": true
   },
   "outputs": [],
   "source": [
    "%%time\n",
    "df['gwo'] = df['institute'].map(institute2code)"
   ]
  },
  {
   "cell_type": "code",
   "execution_count": null,
   "metadata": {
    "collapsed": true
   },
   "outputs": [],
   "source": [
    "#df.to_csv('data-GWOs-mapped.csv')"
   ]
  },
  {
   "cell_type": "code",
   "execution_count": null,
   "metadata": {
    "collapsed": true
   },
   "outputs": [],
   "source": [
    "df.head(40)"
   ]
  },
  {
   "cell_type": "code",
   "execution_count": null,
   "metadata": {
    "collapsed": true
   },
   "outputs": [],
   "source": []
  },
  {
   "cell_type": "code",
   "execution_count": null,
   "metadata": {
    "collapsed": true
   },
   "outputs": [],
   "source": [
    "df[df['gwo'].isnull()]['institute'].unique()  # .to_csv('institutes-not-mapped.csv')"
   ]
  },
  {
   "cell_type": "code",
   "execution_count": null,
   "metadata": {
    "collapsed": true
   },
   "outputs": [],
   "source": [
    "df['institute'].unique().size"
   ]
  },
  {
   "cell_type": "code",
   "execution_count": null,
   "metadata": {
    "collapsed": true
   },
   "outputs": [],
   "source": []
  },
  {
   "cell_type": "markdown",
   "metadata": {},
   "source": [
    "## Works only - without duplicates for each author  (dataset B)"
   ]
  },
  {
   "cell_type": "code",
   "execution_count": null,
   "metadata": {
    "collapsed": true
   },
   "outputs": [],
   "source": [
    "ns = '{http://pbn.nauka.gov.pl/-/ns/bibliography}'\n",
    "\n",
    "def process_file(f):\n",
    "    m = re.match(r'^(S|R|RS|AR)_(.*)_\\d+\\.xml', os.path.basename(f))\n",
    "    if not m:\n",
    "        raise Exception()\n",
    "    \n",
    "    results = []\n",
    "    \n",
    "    record = {}\n",
    "    record['module'] = m.group(1)\n",
    "    record['institute'] = m.group(2)\n",
    "    \n",
    "    root = xml.etree.ElementTree.parse(f).getroot()\n",
    "    for w in root:\n",
    "        record['type'] = re.sub(r'.*}', '', w.tag)\n",
    "        record['title'] = w.find(ns + 'title').text.strip().lower()\n",
    "        try:\n",
    "            record['lang'] = w.find(ns + 'lang').text.strip().lower()\n",
    "        except Exception:\n",
    "            record['lang'] = ''\n",
    "        record['year'] = w.find(ns + 'publication-date')\n",
    "        if record['year'] != None and record['year'].text != None:\n",
    "            record['year'] = record['year'].text\n",
    "            record['year'] = re.sub(r'(\\d\\d\\d\\d)-.*', r'\\1', record['year'])\n",
    "        try:\n",
    "            nothers = int(w.find(ns + 'other-contributors').text)\n",
    "        except Exception:\n",
    "            nothers = 0\n",
    "        if record['type'] == 'book' and w.findall(ns + 'editor'):\n",
    "            record['type'] = 'edited volume'   \n",
    "        authors = []\n",
    "        authorselems = w.findall(ns + 'author') + w.findall(ns + 'editor')\n",
    "        if record['type'] == 'edited volume':\n",
    "            authorselems = w.findall(ns + 'editor')\n",
    "        for a in authorselems:\n",
    "            try:\n",
    "                fullname  = a.find(ns+'given-names').text.strip().capitalize()\n",
    "                fullname += ' '\n",
    "                fullname += a.find(ns+'family-name').text.strip().capitalize()\n",
    "                authors.append(fullname)\n",
    "            except Exception:\n",
    "                # This happens if there is first name or surname information missing in XML\n",
    "                pass\n",
    "        record['nauthors'] = len(authors) + nothers\n",
    "        \n",
    "        if False: # or 'show data':\n",
    "            print(record['module'])\n",
    "            print(record['institute'])\n",
    "            print(record['lang'])\n",
    "            print(record['year'])\n",
    "            print(record['type'] + ': ' + record['title'])\n",
    "            print(record['nauthors'])\n",
    "            for a in authors:\n",
    "                print(a)\n",
    "            print('--')\n",
    "            \n",
    "        if not 'skip \"author\" and avoid duplicates':\n",
    "            for a in authors:\n",
    "                record['author'] = a\n",
    "                results.append(dict(record))\n",
    "        else:\n",
    "            results.append(dict(record))\n",
    "            \n",
    "    return results\n",
    "      \n",
    "f = 'ExportData/AR_Wydział Inżynierii Bezpieczeństwa Pożarowego_Szkoła Główna Służby Pożarniczej_126.xml'\n",
    "process_file(f)"
   ]
  },
  {
   "cell_type": "code",
   "execution_count": null,
   "metadata": {
    "collapsed": true
   },
   "outputs": [],
   "source": [
    "%%time\n",
    "\n",
    "df = pd.DataFrame()\n",
    "for f in glob.glob('ExportData/*.xml'):\n",
    "    df = df.append(pd.DataFrame(process_file(f)))"
   ]
  },
  {
   "cell_type": "code",
   "execution_count": null,
   "metadata": {
    "collapsed": true
   },
   "outputs": [],
   "source": [
    "df.head()"
   ]
  },
  {
   "cell_type": "code",
   "execution_count": null,
   "metadata": {
    "collapsed": true
   },
   "outputs": [],
   "source": [
    "%%time\n",
    "df['gwo'] = df['institute'].map(institute2code)"
   ]
  },
  {
   "cell_type": "code",
   "execution_count": null,
   "metadata": {
    "collapsed": true
   },
   "outputs": [],
   "source": [
    "df.head()"
   ]
  },
  {
   "cell_type": "code",
   "execution_count": null,
   "metadata": {
    "collapsed": true
   },
   "outputs": [],
   "source": [
    "df.size"
   ]
  },
  {
   "cell_type": "code",
   "execution_count": null,
   "metadata": {
    "collapsed": true
   },
   "outputs": [],
   "source": [
    "df.shape\n"
   ]
  },
  {
   "cell_type": "code",
   "execution_count": null,
   "metadata": {
    "collapsed": true
   },
   "outputs": [],
   "source": [
    "df.to_csv('data-no-duplicates.csv')"
   ]
  },
  {
   "cell_type": "code",
   "execution_count": null,
   "metadata": {
    "collapsed": true
   },
   "outputs": [],
   "source": [
    "df"
   ]
  },
  {
   "cell_type": "markdown",
   "metadata": {
    "collapsed": true
   },
   "source": [
    "## OECD mappings"
   ]
  },
  {
   "cell_type": "code",
   "execution_count": null,
   "metadata": {
    "collapsed": true
   },
   "outputs": [],
   "source": [
    "oecd = pd.read_csv('GWO_OECD.csv', index_col=0, usecols=['GWO','Dziedzina OECD'])\n",
    "oecd.columns = ['OECD']"
   ]
  },
  {
   "cell_type": "code",
   "execution_count": null,
   "metadata": {
    "collapsed": true
   },
   "outputs": [],
   "source": [
    "oecd['OECD']"
   ]
  },
  {
   "cell_type": "code",
   "execution_count": null,
   "metadata": {
    "collapsed": true
   },
   "outputs": [],
   "source": [
    "%%time\n",
    "df=pd.read_csv('data-GWOs-mapped.csv.gz',index_col=0)"
   ]
  },
  {
   "cell_type": "code",
   "execution_count": null,
   "metadata": {
    "collapsed": true
   },
   "outputs": [],
   "source": [
    "df"
   ]
  },
  {
   "cell_type": "code",
   "execution_count": null,
   "metadata": {
    "collapsed": true
   },
   "outputs": [],
   "source": [
    "oecd.ix['nz1r'.upper()]['OECD']"
   ]
  },
  {
   "cell_type": "code",
   "execution_count": null,
   "metadata": {
    "collapsed": true
   },
   "outputs": [],
   "source": [
    "def gwo2oecd(gwo):\n",
    "    try:\n",
    "        return int(oecd.ix[gwo.upper()]['OECD'])\n",
    "    except Exception:\n",
    "        return None"
   ]
  },
  {
   "cell_type": "code",
   "execution_count": null,
   "metadata": {
    "collapsed": true
   },
   "outputs": [],
   "source": [
    "%%time\n",
    "df['oecd'] = df['gwo'].map(gwo2oecd)"
   ]
  },
  {
   "cell_type": "code",
   "execution_count": null,
   "metadata": {
    "collapsed": true
   },
   "outputs": [],
   "source": [
    "df.head()"
   ]
  },
  {
   "cell_type": "code",
   "execution_count": null,
   "metadata": {
    "collapsed": true
   },
   "outputs": [],
   "source": [
    "df.to_csv('dataset-B.csv')\n",
    "#df.to_csv('data-B.csv')"
   ]
  },
  {
   "cell_type": "markdown",
   "metadata": {},
   "source": [
    "## Check something about authors vs editors"
   ]
  },
  {
   "cell_type": "code",
   "execution_count": null,
   "metadata": {
    "collapsed": true
   },
   "outputs": [],
   "source": [
    "ns = '{http://pbn.nauka.gov.pl/-/ns/bibliography}'\n",
    "\n",
    "def check_author_vs_editor(f):\n",
    "    m = re.match(r'^(S|R|RS|AR)_(.*)_\\d+\\.xml', os.path.basename(f))\n",
    "    if not m:\n",
    "        raise Exception()\n",
    "    \n",
    "    results = []\n",
    "    \n",
    "    record = {}\n",
    "    record['module'] = m.group(1)\n",
    "    record['institute'] = m.group(2)\n",
    "    \n",
    "    root = xml.etree.ElementTree.parse(f).getroot()\n",
    "    first_work = True\n",
    "    for w in root:\n",
    "        record['type'] = re.sub(r'.*}', '', w.tag)\n",
    "        if record['type'] != 'book' and w.findall(ns + 'editor'):\n",
    "            title = w.find(ns + 'title').text.strip().lower()\n",
    "            print(title)\n",
    "        continue\n",
    "        \n",
    "        if w.findall(ns + 'author') and w.findall(ns + 'editor'):\n",
    "            if first_work:\n",
    "                print(f + ':')\n",
    "                first_work = False\n",
    "            title = w.find(ns + 'title').text.strip().lower()\n",
    "            print(title)\n",
    "            continue\n",
    "    if not first_work:\n",
    "        print()\n",
    "        \n",
    "f = 'ExportData/AR_Wydział Inżynierii Bezpieczeństwa Pożarowego_Szkoła Główna Służby Pożarniczej_126.xml'\n",
    "check_author_vs_editor(f)"
   ]
  },
  {
   "cell_type": "code",
   "execution_count": null,
   "metadata": {
    "collapsed": true
   },
   "outputs": [],
   "source": [
    "for f in glob.glob('ExportData/*.xml'):\n",
    "    check_author_vs_editor(f)"
   ]
  },
  {
   "cell_type": "code",
   "execution_count": null,
   "metadata": {
    "collapsed": true
   },
   "outputs": [],
   "source": [
    "df.ix[252]"
   ]
  },
  {
   "cell_type": "markdown",
   "metadata": {},
   "source": [
    "## Dataset C"
   ]
  },
  {
   "cell_type": "code",
   "execution_count": null,
   "metadata": {
    "collapsed": true
   },
   "outputs": [],
   "source": [
    "df.head()"
   ]
  },
  {
   "cell_type": "code",
   "execution_count": null,
   "metadata": {
    "collapsed": true
   },
   "outputs": [],
   "source": [
    "%%time\n",
    "datasetC = df.drop_duplicates(['title', 'year'])\n",
    "del datasetC['institute']"
   ]
  },
  {
   "cell_type": "code",
   "execution_count": null,
   "metadata": {
    "collapsed": true
   },
   "outputs": [],
   "source": [
    "print(df.shape)\n",
    "print(datasetC.shape)"
   ]
  },
  {
   "cell_type": "code",
   "execution_count": null,
   "metadata": {
    "collapsed": true
   },
   "outputs": [],
   "source": [
    "print(df.shape)\n",
    "print(datasetC.shape)"
   ]
  },
  {
   "cell_type": "code",
   "execution_count": null,
   "metadata": {
    "collapsed": true
   },
   "outputs": [],
   "source": [
    "datasetC.head()"
   ]
  },
  {
   "cell_type": "code",
   "execution_count": null,
   "metadata": {
    "collapsed": true
   },
   "outputs": [],
   "source": [
    "datasetC.to_csv('dataset-C.csv')"
   ]
  },
  {
   "cell_type": "code",
   "execution_count": null,
   "metadata": {
    "collapsed": true
   },
   "outputs": [],
   "source": []
  }
 ],
 "metadata": {
  "kernelspec": {
   "display_name": "Python 3",
   "language": "python",
   "name": "python3"
  },
  "language_info": {
   "codemirror_mode": {
    "name": "ipython",
    "version": 3
   },
   "file_extension": ".py",
   "mimetype": "text/x-python",
   "name": "python",
   "nbconvert_exporter": "python",
   "pygments_lexer": "ipython3",
   "version": "3.6.3"
  }
 },
 "nbformat": 4,
 "nbformat_minor": 1
}
